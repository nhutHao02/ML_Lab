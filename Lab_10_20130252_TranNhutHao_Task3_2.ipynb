{
  "nbformat": 4,
  "nbformat_minor": 0,
  "metadata": {
    "colab": {
      "provenance": [],
      "authorship_tag": "ABX9TyOW/Nv7aiC6yl8xTCNe7z/o",
      "include_colab_link": true
    },
    "kernelspec": {
      "name": "python3",
      "display_name": "Python 3"
    },
    "language_info": {
      "name": "python"
    }
  },
  "cells": [
    {
      "cell_type": "markdown",
      "metadata": {
        "id": "view-in-github",
        "colab_type": "text"
      },
      "source": [
        "<a href=\"https://colab.research.google.com/github/nhutHao02/ML_Lab/blob/main/Lab_10_20130252_TranNhutHao_Task3_2.ipynb\" target=\"_parent\"><img src=\"https://colab.research.google.com/assets/colab-badge.svg\" alt=\"Open In Colab\"/></a>"
      ]
    },
    {
      "cell_type": "markdown",
      "source": [
        "#Task 3. \n",
        "*   3.2. Apply GridSearchCV to find the best hyperparameters\n",
        "\n",
        "```\n",
        "optimizer = ['Adam', 'SGD', 'RMSprop']\n",
        "batch_size = [32,64,128]\n",
        "epochs = [15, 30, 60]\n",
        "param_grid = {\"optimizer\":optimizer, \"batch_size\":batch_size, \"epochs\":epochs}\n",
        "```\n"
      ],
      "metadata": {
        "id": "a8ycu8A6dzNQ"
      }
    },
    {
      "cell_type": "code",
      "source": [
        "!pip install scikeras"
      ],
      "metadata": {
        "colab": {
          "base_uri": "https://localhost:8080/"
        },
        "id": "rcVMImOJd8r7",
        "outputId": "f34f6178-6b54-40de-8cc7-4808ac2ee609"
      },
      "execution_count": 1,
      "outputs": [
        {
          "output_type": "stream",
          "name": "stdout",
          "text": [
            "Looking in indexes: https://pypi.org/simple, https://us-python.pkg.dev/colab-wheels/public/simple/\n",
            "Collecting scikeras\n",
            "  Downloading scikeras-0.10.0-py3-none-any.whl (27 kB)\n",
            "Requirement already satisfied: scikit-learn>=1.0.0 in /usr/local/lib/python3.10/dist-packages (from scikeras) (1.2.2)\n",
            "Requirement already satisfied: packaging>=0.21 in /usr/local/lib/python3.10/dist-packages (from scikeras) (23.1)\n",
            "Requirement already satisfied: numpy>=1.17.3 in /usr/local/lib/python3.10/dist-packages (from scikit-learn>=1.0.0->scikeras) (1.22.4)\n",
            "Requirement already satisfied: threadpoolctl>=2.0.0 in /usr/local/lib/python3.10/dist-packages (from scikit-learn>=1.0.0->scikeras) (3.1.0)\n",
            "Requirement already satisfied: scipy>=1.3.2 in /usr/local/lib/python3.10/dist-packages (from scikit-learn>=1.0.0->scikeras) (1.10.1)\n",
            "Requirement already satisfied: joblib>=1.1.1 in /usr/local/lib/python3.10/dist-packages (from scikit-learn>=1.0.0->scikeras) (1.2.0)\n",
            "Installing collected packages: scikeras\n",
            "Successfully installed scikeras-0.10.0\n"
          ]
        }
      ]
    },
    {
      "cell_type": "code",
      "source": [
        "# code\n",
        "from keras import Sequential\n",
        "from sklearn.model_selection import GridSearchCV\n",
        "from scikeras.wrappers import KerasClassifier\n",
        "from keras.layers import Dense, Flatten\n",
        "import numpy as np\n",
        "import tensorflow\n",
        "from sklearn.datasets import load_iris\n",
        "from sklearn.preprocessing import StandardScaler, Normalizer\n",
        "from sklearn.model_selection import train_test_split\n",
        "from sklearn.metrics import accuracy_score\n",
        "from sklearn import datasets\n",
        "from tensorflow.keras.datasets import mnist\n",
        "from keras.datasets import cifar10\n",
        "from keras.layers import Dropout, Conv2D, MaxPooling2D\n",
        "from keras.constraints import max_norm\n",
        "from keras.optimizers import SGD\n",
        "from keras.utils.vis_utils import plot_model\n",
        "from keras import layers\n",
        "from tensorflow import keras\n",
        "import tensorflow as tf\n",
        "import numpy as np\n",
        "from keras.optimizers import Adam"
      ],
      "metadata": {
        "id": "XMXKbrI6d_Xi"
      },
      "execution_count": 2,
      "outputs": []
    },
    {
      "cell_type": "code",
      "execution_count": 4,
      "metadata": {
        "colab": {
          "base_uri": "https://localhost:8080/"
        },
        "id": "O1RJJrsPc3Fh",
        "outputId": "47aaace6-2265-4da8-a6bf-a8a93c123b22"
      },
      "outputs": [
        {
          "output_type": "stream",
          "name": "stdout",
          "text": [
            "Downloading data from https://storage.googleapis.com/tensorflow/tf-keras-datasets/train-labels-idx1-ubyte.gz\n",
            "29515/29515 [==============================] - 0s 1us/step\n",
            "Downloading data from https://storage.googleapis.com/tensorflow/tf-keras-datasets/train-images-idx3-ubyte.gz\n",
            "26421880/26421880 [==============================] - 2s 0us/step\n",
            "Downloading data from https://storage.googleapis.com/tensorflow/tf-keras-datasets/t10k-labels-idx1-ubyte.gz\n",
            "5148/5148 [==============================] - 0s 0us/step\n",
            "Downloading data from https://storage.googleapis.com/tensorflow/tf-keras-datasets/t10k-images-idx3-ubyte.gz\n",
            "4422102/4422102 [==============================] - 1s 0us/step\n"
          ]
        }
      ],
      "source": [
        "(X_train, y_train), (X_test, y_test) = tf.keras.datasets.fashion_mnist.load_data()\n",
        "\n",
        "X_train = X_train.astype('float32') / 255.0\n",
        "X_test = X_test.astype('float32') / 255.0\n",
        "\n",
        "X_train = X_train.reshape(X_train.shape[0], 28, 28, 1)\n",
        "X_test = X_test.reshape(X_test.shape[0], 28, 28, 1)\n",
        "\n",
        "y_train = tf.keras.utils.to_categorical(y_train)\n",
        "y_test = tf.keras.utils.to_categorical(y_test)"
      ]
    },
    {
      "cell_type": "code",
      "source": [
        "def create_model():\n",
        "    model = Sequential()\n",
        "    model.add(Conv2D(32, (3, 3), activation='relu', kernel_constraint=max_norm(3), input_shape=(28, 28, 1)))\n",
        "    model.add(Dropout(0.2))\n",
        "    model.add(Conv2D(32, (3, 3), activation='relu', kernel_constraint=max_norm(3)))\n",
        "    model.add(MaxPooling2D(pool_size=(2, 2)))\n",
        "    model.add(Flatten())\n",
        "    model.add(Dense(512, activation='relu'))\n",
        "    model.add(Dropout(0.2))\n",
        "    model.add(Dense(10, activation='softmax'))\n",
        "    model.compile(loss='categorical_crossentropy', optimizer='SGD', metrics=['accuracy'])\n",
        "    return model\n"
      ],
      "metadata": {
        "id": "bp2LcP2Ighof"
      },
      "execution_count": 16,
      "outputs": []
    },
    {
      "cell_type": "code",
      "source": [
        "optimizer = ['Adam', 'SGD', 'RMSprop']\n",
        "batch_size = [32,64,128]\n",
        "epochs = [5, 10]\n",
        "param_grid = {\"optimizer\":optimizer, \"batch_size\":batch_size, \"epochs\":epochs}"
      ],
      "metadata": {
        "id": "D5j7g2MWg785"
      },
      "execution_count": 14,
      "outputs": []
    },
    {
      "cell_type": "code",
      "source": [
        "model = KerasClassifier(build_fn=create_model)\n",
        "grid = GridSearchCV(estimator=model, param_grid=param_grid, n_jobs=-1, cv=3)"
      ],
      "metadata": {
        "id": "m4_JJwq2hKVI"
      },
      "execution_count": 12,
      "outputs": []
    },
    {
      "cell_type": "code",
      "source": [
        "grid_result = grid.fit(X_train[:10000], y_train[:10000])\n",
        "y_pred = grid_result.predict(X_test)\n",
        "print(accuracy_score(y_test, y_pred))"
      ],
      "metadata": {
        "colab": {
          "base_uri": "https://localhost:8080/",
          "height": 1000
        },
        "id": "7NWDspukhNSV",
        "outputId": "25a57163-a349-4987-d2d0-7f7524588490"
      },
      "execution_count": 17,
      "outputs": [
        {
          "output_type": "stream",
          "name": "stderr",
          "text": [
            "/usr/local/lib/python3.10/dist-packages/scikeras/wrappers.py:301: UserWarning: ``build_fn`` will be renamed to ``model`` in a future release, at which point use of ``build_fn`` will raise an Error instead.\n",
            "  warnings.warn(\n"
          ]
        },
        {
          "output_type": "stream",
          "name": "stdout",
          "text": [
            "Epoch 1/5\n",
            "209/209 [==============================] - 24s 111ms/step - loss: 0.6901 - accuracy: 0.7424\n",
            "Epoch 2/5\n",
            "209/209 [==============================] - 23s 111ms/step - loss: 0.4277 - accuracy: 0.8431\n",
            "Epoch 3/5\n",
            "209/209 [==============================] - 21s 101ms/step - loss: 0.3484 - accuracy: 0.8750\n",
            "Epoch 4/5\n",
            "209/209 [==============================] - 22s 108ms/step - loss: 0.2899 - accuracy: 0.8959\n",
            "Epoch 5/5\n",
            "209/209 [==============================] - 23s 108ms/step - loss: 0.2398 - accuracy: 0.9128\n",
            "105/105 [==============================] - 2s 18ms/step\n",
            "Epoch 1/5\n"
          ]
        },
        {
          "output_type": "stream",
          "name": "stderr",
          "text": [
            "/usr/local/lib/python3.10/dist-packages/scikeras/wrappers.py:301: UserWarning: ``build_fn`` will be renamed to ``model`` in a future release, at which point use of ``build_fn`` will raise an Error instead.\n",
            "  warnings.warn(\n"
          ]
        },
        {
          "output_type": "stream",
          "name": "stdout",
          "text": [
            "209/209 [==============================] - 23s 107ms/step - loss: 0.7130 - accuracy: 0.7434\n",
            "Epoch 2/5\n",
            "209/209 [==============================] - 21s 100ms/step - loss: 0.4353 - accuracy: 0.8433\n",
            "Epoch 3/5\n",
            "209/209 [==============================] - 24s 115ms/step - loss: 0.3560 - accuracy: 0.8686\n",
            "Epoch 4/5\n",
            "209/209 [==============================] - 23s 112ms/step - loss: 0.2968 - accuracy: 0.8898\n",
            "Epoch 5/5\n",
            "209/209 [==============================] - 21s 101ms/step - loss: 0.2505 - accuracy: 0.9072\n",
            "105/105 [==============================] - 2s 18ms/step\n"
          ]
        },
        {
          "output_type": "stream",
          "name": "stderr",
          "text": [
            "/usr/local/lib/python3.10/dist-packages/scikeras/wrappers.py:301: UserWarning: ``build_fn`` will be renamed to ``model`` in a future release, at which point use of ``build_fn`` will raise an Error instead.\n",
            "  warnings.warn(\n"
          ]
        },
        {
          "output_type": "stream",
          "name": "stdout",
          "text": [
            "Epoch 1/5\n",
            "209/209 [==============================] - 23s 107ms/step - loss: 0.6764 - accuracy: 0.7540\n",
            "Epoch 2/5\n",
            "209/209 [==============================] - 22s 106ms/step - loss: 0.4166 - accuracy: 0.8541\n",
            "Epoch 3/5\n",
            "209/209 [==============================] - 21s 101ms/step - loss: 0.3393 - accuracy: 0.8790\n",
            "Epoch 4/5\n",
            "209/209 [==============================] - 22s 107ms/step - loss: 0.2703 - accuracy: 0.9007\n",
            "Epoch 5/5\n",
            "209/209 [==============================] - 21s 102ms/step - loss: 0.2279 - accuracy: 0.9147\n",
            "105/105 [==============================] - 3s 26ms/step\n",
            "Epoch 1/5\n"
          ]
        },
        {
          "output_type": "stream",
          "name": "stderr",
          "text": [
            "/usr/local/lib/python3.10/dist-packages/scikeras/wrappers.py:301: UserWarning: ``build_fn`` will be renamed to ``model`` in a future release, at which point use of ``build_fn`` will raise an Error instead.\n",
            "  warnings.warn(\n"
          ]
        },
        {
          "output_type": "stream",
          "name": "stdout",
          "text": [
            "209/209 [==============================] - 22s 100ms/step - loss: 0.6753 - accuracy: 0.7582\n",
            "Epoch 2/5\n",
            "209/209 [==============================] - 22s 107ms/step - loss: 0.4217 - accuracy: 0.8494\n",
            "Epoch 3/5\n",
            "209/209 [==============================] - 23s 108ms/step - loss: 0.3411 - accuracy: 0.8807\n",
            "Epoch 4/5\n",
            "209/209 [==============================] - 21s 101ms/step - loss: 0.2744 - accuracy: 0.9013\n",
            "Epoch 5/5\n",
            "209/209 [==============================] - 22s 107ms/step - loss: 0.2328 - accuracy: 0.9119\n",
            "105/105 [==============================] - 2s 18ms/step\n",
            "Epoch 1/5\n"
          ]
        },
        {
          "output_type": "stream",
          "name": "stderr",
          "text": [
            "/usr/local/lib/python3.10/dist-packages/scikeras/wrappers.py:301: UserWarning: ``build_fn`` will be renamed to ``model`` in a future release, at which point use of ``build_fn`` will raise an Error instead.\n",
            "  warnings.warn(\n"
          ]
        },
        {
          "output_type": "stream",
          "name": "stdout",
          "text": [
            "209/209 [==============================] - 23s 107ms/step - loss: 0.6908 - accuracy: 0.7483\n",
            "Epoch 2/5\n",
            "209/209 [==============================] - 21s 100ms/step - loss: 0.4323 - accuracy: 0.8427\n",
            "Epoch 3/5\n",
            "209/209 [==============================] - 22s 107ms/step - loss: 0.3396 - accuracy: 0.8740\n",
            "Epoch 4/5\n",
            "209/209 [==============================] - 22s 107ms/step - loss: 0.2845 - accuracy: 0.8971\n",
            "Epoch 5/5\n",
            "209/209 [==============================] - 21s 100ms/step - loss: 0.2332 - accuracy: 0.9157\n",
            "105/105 [==============================] - 2s 18ms/step\n",
            "Epoch 1/5\n"
          ]
        },
        {
          "output_type": "stream",
          "name": "stderr",
          "text": [
            "/usr/local/lib/python3.10/dist-packages/scikeras/wrappers.py:301: UserWarning: ``build_fn`` will be renamed to ``model`` in a future release, at which point use of ``build_fn`` will raise an Error instead.\n",
            "  warnings.warn(\n"
          ]
        },
        {
          "output_type": "stream",
          "name": "stdout",
          "text": [
            "209/209 [==============================] - 23s 108ms/step - loss: 0.6898 - accuracy: 0.7513\n",
            "Epoch 2/5\n",
            "209/209 [==============================] - 22s 107ms/step - loss: 0.4318 - accuracy: 0.8458\n",
            "Epoch 3/5\n",
            "209/209 [==============================] - 21s 100ms/step - loss: 0.3505 - accuracy: 0.8725\n",
            "Epoch 4/5\n",
            "209/209 [==============================] - 22s 107ms/step - loss: 0.2952 - accuracy: 0.8968\n",
            "Epoch 5/5\n",
            "209/209 [==============================] - 22s 106ms/step - loss: 0.2366 - accuracy: 0.9123\n",
            "105/105 [==============================] - 2s 18ms/step\n",
            "Epoch 1/5\n"
          ]
        },
        {
          "output_type": "stream",
          "name": "stderr",
          "text": [
            "/usr/local/lib/python3.10/dist-packages/scikeras/wrappers.py:301: UserWarning: ``build_fn`` will be renamed to ``model`` in a future release, at which point use of ``build_fn`` will raise an Error instead.\n",
            "  warnings.warn(\n"
          ]
        },
        {
          "output_type": "stream",
          "name": "stdout",
          "text": [
            "209/209 [==============================] - 23s 105ms/step - loss: 0.6910 - accuracy: 0.7496\n",
            "Epoch 2/5\n",
            "209/209 [==============================] - 23s 109ms/step - loss: 0.4225 - accuracy: 0.8434\n",
            "Epoch 3/5\n",
            "209/209 [==============================] - 24s 116ms/step - loss: 0.3414 - accuracy: 0.8731\n",
            "Epoch 4/5\n",
            "209/209 [==============================] - 22s 105ms/step - loss: 0.2736 - accuracy: 0.8977\n",
            "Epoch 5/5\n",
            "209/209 [==============================] - 23s 108ms/step - loss: 0.2231 - accuracy: 0.9205\n",
            "105/105 [==============================] - 3s 29ms/step\n",
            "Epoch 1/5\n"
          ]
        },
        {
          "output_type": "stream",
          "name": "stderr",
          "text": [
            "/usr/local/lib/python3.10/dist-packages/scikeras/wrappers.py:301: UserWarning: ``build_fn`` will be renamed to ``model`` in a future release, at which point use of ``build_fn`` will raise an Error instead.\n",
            "  warnings.warn(\n"
          ]
        },
        {
          "output_type": "stream",
          "name": "stdout",
          "text": [
            "209/209 [==============================] - 23s 106ms/step - loss: 0.6881 - accuracy: 0.7468\n",
            "Epoch 2/5\n",
            "209/209 [==============================] - 21s 102ms/step - loss: 0.4246 - accuracy: 0.8484\n",
            "Epoch 3/5\n",
            "209/209 [==============================] - 22s 108ms/step - loss: 0.3383 - accuracy: 0.8757\n",
            "Epoch 4/5\n",
            "209/209 [==============================] - 21s 103ms/step - loss: 0.2818 - accuracy: 0.8988\n",
            "Epoch 5/5\n",
            "209/209 [==============================] - 22s 105ms/step - loss: 0.2310 - accuracy: 0.9130\n",
            "105/105 [==============================] - 2s 18ms/step\n",
            "Epoch 1/5\n"
          ]
        },
        {
          "output_type": "stream",
          "name": "stderr",
          "text": [
            "/usr/local/lib/python3.10/dist-packages/scikeras/wrappers.py:301: UserWarning: ``build_fn`` will be renamed to ``model`` in a future release, at which point use of ``build_fn`` will raise an Error instead.\n",
            "  warnings.warn(\n"
          ]
        },
        {
          "output_type": "stream",
          "name": "stdout",
          "text": [
            "209/209 [==============================] - 24s 108ms/step - loss: 0.6752 - accuracy: 0.7584\n",
            "Epoch 2/5\n",
            "209/209 [==============================] - 22s 107ms/step - loss: 0.4152 - accuracy: 0.8536\n",
            "Epoch 3/5\n",
            "209/209 [==============================] - 21s 102ms/step - loss: 0.3356 - accuracy: 0.8826\n",
            "Epoch 4/5\n",
            "209/209 [==============================] - 23s 108ms/step - loss: 0.2797 - accuracy: 0.8976\n",
            "Epoch 5/5\n",
            "209/209 [==============================] - 21s 103ms/step - loss: 0.2287 - accuracy: 0.9169\n",
            "105/105 [==============================] - 3s 27ms/step\n",
            "Epoch 1/10\n"
          ]
        },
        {
          "output_type": "stream",
          "name": "stderr",
          "text": [
            "/usr/local/lib/python3.10/dist-packages/scikeras/wrappers.py:301: UserWarning: ``build_fn`` will be renamed to ``model`` in a future release, at which point use of ``build_fn`` will raise an Error instead.\n",
            "  warnings.warn(\n"
          ]
        },
        {
          "output_type": "stream",
          "name": "stdout",
          "text": [
            "209/209 [==============================] - 22s 101ms/step - loss: 0.6980 - accuracy: 0.7490\n",
            "Epoch 2/10\n",
            "209/209 [==============================] - 23s 108ms/step - loss: 0.4295 - accuracy: 0.8489\n",
            "Epoch 3/10\n",
            "209/209 [==============================] - 22s 107ms/step - loss: 0.3344 - accuracy: 0.8756\n",
            "Epoch 4/10\n",
            "209/209 [==============================] - 21s 100ms/step - loss: 0.2791 - accuracy: 0.8960\n",
            "Epoch 5/10\n",
            "209/209 [==============================] - 22s 107ms/step - loss: 0.2187 - accuracy: 0.9161\n",
            "Epoch 6/10\n",
            "209/209 [==============================] - 23s 110ms/step - loss: 0.1802 - accuracy: 0.9307\n",
            "Epoch 7/10\n",
            "209/209 [==============================] - 21s 103ms/step - loss: 0.1445 - accuracy: 0.9466\n",
            "Epoch 8/10\n",
            "209/209 [==============================] - 23s 108ms/step - loss: 0.1110 - accuracy: 0.9596\n",
            "Epoch 9/10\n",
            "209/209 [==============================] - 22s 108ms/step - loss: 0.0904 - accuracy: 0.9664\n",
            "Epoch 10/10\n",
            "209/209 [==============================] - 21s 101ms/step - loss: 0.0801 - accuracy: 0.9715\n",
            "105/105 [==============================] - 2s 18ms/step\n",
            "Epoch 1/10\n"
          ]
        },
        {
          "output_type": "stream",
          "name": "stderr",
          "text": [
            "/usr/local/lib/python3.10/dist-packages/scikeras/wrappers.py:301: UserWarning: ``build_fn`` will be renamed to ``model`` in a future release, at which point use of ``build_fn`` will raise an Error instead.\n",
            "  warnings.warn(\n"
          ]
        },
        {
          "output_type": "stream",
          "name": "stdout",
          "text": [
            "209/209 [==============================] - 24s 109ms/step - loss: 0.6970 - accuracy: 0.7429\n",
            "Epoch 2/10\n",
            "209/209 [==============================] - 21s 102ms/step - loss: 0.4480 - accuracy: 0.8382\n",
            "Epoch 3/10\n",
            "209/209 [==============================] - 22s 106ms/step - loss: 0.3619 - accuracy: 0.8671\n",
            "Epoch 4/10\n",
            "209/209 [==============================] - 22s 107ms/step - loss: 0.3082 - accuracy: 0.8814\n",
            "Epoch 5/10\n",
            "209/209 [==============================] - 21s 100ms/step - loss: 0.2442 - accuracy: 0.9043\n",
            "Epoch 6/10\n",
            "209/209 [==============================] - 22s 107ms/step - loss: 0.2110 - accuracy: 0.9219\n",
            "Epoch 7/10\n",
            "209/209 [==============================] - 23s 108ms/step - loss: 0.1637 - accuracy: 0.9379\n",
            "Epoch 8/10\n",
            "209/209 [==============================] - 21s 100ms/step - loss: 0.1388 - accuracy: 0.9472\n",
            "Epoch 9/10\n",
            "209/209 [==============================] - 22s 107ms/step - loss: 0.1111 - accuracy: 0.9603\n",
            "Epoch 10/10\n",
            "209/209 [==============================] - 23s 109ms/step - loss: 0.0875 - accuracy: 0.9661\n",
            "105/105 [==============================] - 2s 18ms/step\n",
            "Epoch 1/10\n"
          ]
        },
        {
          "output_type": "stream",
          "name": "stderr",
          "text": [
            "/usr/local/lib/python3.10/dist-packages/scikeras/wrappers.py:301: UserWarning: ``build_fn`` will be renamed to ``model`` in a future release, at which point use of ``build_fn`` will raise an Error instead.\n",
            "  warnings.warn(\n"
          ]
        },
        {
          "output_type": "stream",
          "name": "stdout",
          "text": [
            "209/209 [==============================] - 24s 108ms/step - loss: 0.6869 - accuracy: 0.7537\n",
            "Epoch 2/10\n",
            "209/209 [==============================] - 21s 101ms/step - loss: 0.4284 - accuracy: 0.8485\n",
            "Epoch 3/10\n",
            "209/209 [==============================] - 23s 108ms/step - loss: 0.3445 - accuracy: 0.8785\n",
            "Epoch 4/10\n",
            "209/209 [==============================] - 22s 107ms/step - loss: 0.2856 - accuracy: 0.8952\n",
            "Epoch 5/10\n",
            "209/209 [==============================] - 21s 101ms/step - loss: 0.2309 - accuracy: 0.9150\n",
            "Epoch 6/10\n",
            "209/209 [==============================] - 22s 107ms/step - loss: 0.1986 - accuracy: 0.9259\n",
            "Epoch 7/10\n",
            "209/209 [==============================] - 22s 106ms/step - loss: 0.1603 - accuracy: 0.9432\n",
            "Epoch 8/10\n",
            "209/209 [==============================] - 22s 103ms/step - loss: 0.1248 - accuracy: 0.9559\n",
            "Epoch 9/10\n",
            "209/209 [==============================] - 23s 109ms/step - loss: 0.1038 - accuracy: 0.9622\n",
            "Epoch 10/10\n",
            "209/209 [==============================] - 22s 105ms/step - loss: 0.0965 - accuracy: 0.9649\n",
            "105/105 [==============================] - 2s 18ms/step\n",
            "Epoch 1/10\n"
          ]
        },
        {
          "output_type": "stream",
          "name": "stderr",
          "text": [
            "/usr/local/lib/python3.10/dist-packages/scikeras/wrappers.py:301: UserWarning: ``build_fn`` will be renamed to ``model`` in a future release, at which point use of ``build_fn`` will raise an Error instead.\n",
            "  warnings.warn(\n"
          ]
        },
        {
          "output_type": "stream",
          "name": "stdout",
          "text": [
            "209/209 [==============================] - 24s 108ms/step - loss: 0.7004 - accuracy: 0.7426\n",
            "Epoch 2/10\n",
            "209/209 [==============================] - 23s 108ms/step - loss: 0.4444 - accuracy: 0.8374\n",
            "Epoch 3/10\n",
            "209/209 [==============================] - 21s 101ms/step - loss: 0.3489 - accuracy: 0.8708\n",
            "Epoch 4/10\n",
            "209/209 [==============================] - 23s 108ms/step - loss: 0.2857 - accuracy: 0.8938\n",
            "Epoch 5/10\n",
            "209/209 [==============================] - 22s 107ms/step - loss: 0.2348 - accuracy: 0.9086\n",
            "Epoch 6/10\n",
            "209/209 [==============================] - 21s 101ms/step - loss: 0.1828 - accuracy: 0.9302\n",
            "Epoch 7/10\n",
            "209/209 [==============================] - 22s 107ms/step - loss: 0.1489 - accuracy: 0.9470\n",
            "Epoch 8/10\n",
            "209/209 [==============================] - 22s 104ms/step - loss: 0.1230 - accuracy: 0.9526\n",
            "Epoch 9/10\n",
            "209/209 [==============================] - 22s 104ms/step - loss: 0.1053 - accuracy: 0.9613\n",
            "Epoch 10/10\n",
            "209/209 [==============================] - 23s 108ms/step - loss: 0.0793 - accuracy: 0.9709\n",
            "105/105 [==============================] - 3s 24ms/step\n",
            "Epoch 1/10\n"
          ]
        },
        {
          "output_type": "stream",
          "name": "stderr",
          "text": [
            "/usr/local/lib/python3.10/dist-packages/scikeras/wrappers.py:301: UserWarning: ``build_fn`` will be renamed to ``model`` in a future release, at which point use of ``build_fn`` will raise an Error instead.\n",
            "  warnings.warn(\n"
          ]
        },
        {
          "output_type": "stream",
          "name": "stdout",
          "text": [
            "209/209 [==============================] - 22s 103ms/step - loss: 0.7282 - accuracy: 0.7459\n",
            "Epoch 2/10\n",
            "209/209 [==============================] - 22s 107ms/step - loss: 0.4416 - accuracy: 0.8395\n",
            "Epoch 3/10\n",
            "209/209 [==============================] - 23s 108ms/step - loss: 0.3611 - accuracy: 0.8668\n",
            "Epoch 4/10\n",
            "209/209 [==============================] - 21s 101ms/step - loss: 0.3032 - accuracy: 0.8886\n",
            "Epoch 5/10\n",
            "209/209 [==============================] - 23s 108ms/step - loss: 0.2504 - accuracy: 0.9064\n",
            "Epoch 6/10\n",
            "209/209 [==============================] - 23s 108ms/step - loss: 0.2060 - accuracy: 0.9225\n",
            "Epoch 7/10\n",
            "209/209 [==============================] - 21s 101ms/step - loss: 0.1705 - accuracy: 0.9375\n",
            "Epoch 8/10\n",
            "209/209 [==============================] - 22s 108ms/step - loss: 0.1411 - accuracy: 0.9486\n",
            "Epoch 9/10\n",
            "209/209 [==============================] - 23s 108ms/step - loss: 0.1124 - accuracy: 0.9586\n",
            "Epoch 10/10\n",
            "209/209 [==============================] - 21s 102ms/step - loss: 0.0924 - accuracy: 0.9691\n",
            "105/105 [==============================] - 3s 26ms/step\n",
            "Epoch 1/10\n"
          ]
        },
        {
          "output_type": "stream",
          "name": "stderr",
          "text": [
            "/usr/local/lib/python3.10/dist-packages/scikeras/wrappers.py:301: UserWarning: ``build_fn`` will be renamed to ``model`` in a future release, at which point use of ``build_fn`` will raise an Error instead.\n",
            "  warnings.warn(\n"
          ]
        },
        {
          "output_type": "stream",
          "name": "stdout",
          "text": [
            "209/209 [==============================] - 22s 103ms/step - loss: 0.7127 - accuracy: 0.7437\n",
            "Epoch 2/10\n",
            "209/209 [==============================] - 22s 106ms/step - loss: 0.4324 - accuracy: 0.8445\n",
            "Epoch 3/10\n",
            "209/209 [==============================] - 23s 108ms/step - loss: 0.3394 - accuracy: 0.8775\n",
            "Epoch 4/10\n",
            "209/209 [==============================] - 21s 102ms/step - loss: 0.2887 - accuracy: 0.8925\n",
            "Epoch 5/10\n",
            "209/209 [==============================] - 22s 107ms/step - loss: 0.2413 - accuracy: 0.9115\n",
            "Epoch 6/10\n",
            "209/209 [==============================] - 22s 107ms/step - loss: 0.2065 - accuracy: 0.9246\n",
            "Epoch 7/10\n",
            "209/209 [==============================] - 21s 100ms/step - loss: 0.1589 - accuracy: 0.9405\n",
            "Epoch 8/10\n",
            "209/209 [==============================] - 22s 107ms/step - loss: 0.1369 - accuracy: 0.9496\n",
            "Epoch 9/10\n",
            "209/209 [==============================] - 22s 107ms/step - loss: 0.1071 - accuracy: 0.9606\n",
            "Epoch 10/10\n",
            "209/209 [==============================] - 21s 100ms/step - loss: 0.0918 - accuracy: 0.9663\n",
            "105/105 [==============================] - 2s 18ms/step\n",
            "Epoch 1/10\n"
          ]
        },
        {
          "output_type": "stream",
          "name": "stderr",
          "text": [
            "/usr/local/lib/python3.10/dist-packages/scikeras/wrappers.py:301: UserWarning: ``build_fn`` will be renamed to ``model`` in a future release, at which point use of ``build_fn`` will raise an Error instead.\n",
            "  warnings.warn(\n"
          ]
        },
        {
          "output_type": "stream",
          "name": "stdout",
          "text": [
            "209/209 [==============================] - 23s 108ms/step - loss: 0.6965 - accuracy: 0.7465\n",
            "Epoch 2/10\n",
            "209/209 [==============================] - 22s 107ms/step - loss: 0.4299 - accuracy: 0.8462\n",
            "Epoch 3/10\n",
            "209/209 [==============================] - 21s 102ms/step - loss: 0.3407 - accuracy: 0.8776\n",
            "Epoch 4/10\n",
            "209/209 [==============================] - 23s 108ms/step - loss: 0.2834 - accuracy: 0.8977\n",
            "Epoch 5/10\n",
            "209/209 [==============================] - 22s 105ms/step - loss: 0.2256 - accuracy: 0.9193\n",
            "Epoch 6/10\n",
            "209/209 [==============================] - 21s 102ms/step - loss: 0.1839 - accuracy: 0.9308\n",
            "Epoch 7/10\n",
            "209/209 [==============================] - 23s 108ms/step - loss: 0.1518 - accuracy: 0.9442\n",
            "Epoch 8/10\n",
            "209/209 [==============================] - 21s 102ms/step - loss: 0.1161 - accuracy: 0.9581\n",
            "Epoch 9/10\n",
            "209/209 [==============================] - 22s 106ms/step - loss: 0.0946 - accuracy: 0.9644\n",
            "Epoch 10/10\n",
            "209/209 [==============================] - 22s 107ms/step - loss: 0.0760 - accuracy: 0.9721\n",
            "105/105 [==============================] - 2s 18ms/step\n",
            "Epoch 1/10\n"
          ]
        },
        {
          "output_type": "stream",
          "name": "stderr",
          "text": [
            "/usr/local/lib/python3.10/dist-packages/scikeras/wrappers.py:301: UserWarning: ``build_fn`` will be renamed to ``model`` in a future release, at which point use of ``build_fn`` will raise an Error instead.\n",
            "  warnings.warn(\n"
          ]
        },
        {
          "output_type": "stream",
          "name": "stdout",
          "text": [
            "209/209 [==============================] - 23s 107ms/step - loss: 0.7061 - accuracy: 0.7447\n",
            "Epoch 2/10\n",
            "209/209 [==============================] - 21s 100ms/step - loss: 0.4388 - accuracy: 0.8436\n",
            "Epoch 3/10\n",
            "209/209 [==============================] - 22s 108ms/step - loss: 0.3446 - accuracy: 0.8743\n",
            "Epoch 4/10\n",
            "209/209 [==============================] - 22s 107ms/step - loss: 0.2863 - accuracy: 0.8908\n",
            "Epoch 5/10\n",
            "209/209 [==============================] - 21s 101ms/step - loss: 0.2333 - accuracy: 0.9082\n",
            "Epoch 6/10\n",
            "209/209 [==============================] - 22s 108ms/step - loss: 0.1933 - accuracy: 0.9265\n",
            "Epoch 7/10\n",
            "209/209 [==============================] - 23s 108ms/step - loss: 0.1552 - accuracy: 0.9430\n",
            "Epoch 8/10\n",
            "209/209 [==============================] - 21s 101ms/step - loss: 0.1226 - accuracy: 0.9538\n",
            "Epoch 9/10\n",
            "209/209 [==============================] - 23s 108ms/step - loss: 0.1122 - accuracy: 0.9594\n",
            "Epoch 10/10\n",
            "209/209 [==============================] - 22s 106ms/step - loss: 0.0851 - accuracy: 0.9697\n",
            "105/105 [==============================] - 2s 18ms/step\n",
            "Epoch 1/10\n"
          ]
        },
        {
          "output_type": "stream",
          "name": "stderr",
          "text": [
            "/usr/local/lib/python3.10/dist-packages/scikeras/wrappers.py:301: UserWarning: ``build_fn`` will be renamed to ``model`` in a future release, at which point use of ``build_fn`` will raise an Error instead.\n",
            "  warnings.warn(\n"
          ]
        },
        {
          "output_type": "stream",
          "name": "stdout",
          "text": [
            "209/209 [==============================] - 23s 107ms/step - loss: 0.6874 - accuracy: 0.7521\n",
            "Epoch 2/10\n",
            "209/209 [==============================] - 22s 107ms/step - loss: 0.4158 - accuracy: 0.8533\n",
            "Epoch 3/10\n",
            "209/209 [==============================] - 21s 101ms/step - loss: 0.3400 - accuracy: 0.8829\n",
            "Epoch 4/10\n",
            "209/209 [==============================] - 22s 107ms/step - loss: 0.2795 - accuracy: 0.9007\n",
            "Epoch 5/10\n",
            "209/209 [==============================] - 22s 107ms/step - loss: 0.2267 - accuracy: 0.9180\n",
            "Epoch 6/10\n",
            "209/209 [==============================] - 21s 100ms/step - loss: 0.1838 - accuracy: 0.9328\n",
            "Epoch 7/10\n",
            "209/209 [==============================] - 22s 107ms/step - loss: 0.1540 - accuracy: 0.9432\n",
            "Epoch 8/10\n",
            "209/209 [==============================] - 22s 106ms/step - loss: 0.1242 - accuracy: 0.9555\n",
            "Epoch 9/10\n",
            "209/209 [==============================] - 21s 103ms/step - loss: 0.0989 - accuracy: 0.9660\n",
            "Epoch 10/10\n",
            "209/209 [==============================] - 22s 107ms/step - loss: 0.0773 - accuracy: 0.9715\n",
            "105/105 [==============================] - 3s 29ms/step\n"
          ]
        },
        {
          "output_type": "stream",
          "name": "stderr",
          "text": [
            "/usr/local/lib/python3.10/dist-packages/scikeras/wrappers.py:301: UserWarning: ``build_fn`` will be renamed to ``model`` in a future release, at which point use of ``build_fn`` will raise an Error instead.\n",
            "  warnings.warn(\n"
          ]
        },
        {
          "output_type": "stream",
          "name": "stdout",
          "text": [
            "Epoch 1/5\n",
            "105/105 [==============================] - 19s 171ms/step - loss: 0.7839 - accuracy: 0.7111\n",
            "Epoch 2/5\n",
            "105/105 [==============================] - 18s 171ms/step - loss: 0.4597 - accuracy: 0.8302\n",
            "Epoch 3/5\n",
            "105/105 [==============================] - 19s 186ms/step - loss: 0.3773 - accuracy: 0.8654\n",
            "Epoch 4/5\n",
            "105/105 [==============================] - 18s 170ms/step - loss: 0.3161 - accuracy: 0.8870\n",
            "Epoch 5/5\n",
            "105/105 [==============================] - 19s 182ms/step - loss: 0.2682 - accuracy: 0.9038\n",
            "53/53 [==============================] - 2s 31ms/step\n",
            "Epoch 1/5\n"
          ]
        },
        {
          "output_type": "stream",
          "name": "stderr",
          "text": [
            "/usr/local/lib/python3.10/dist-packages/scikeras/wrappers.py:301: UserWarning: ``build_fn`` will be renamed to ``model`` in a future release, at which point use of ``build_fn`` will raise an Error instead.\n",
            "  warnings.warn(\n"
          ]
        },
        {
          "output_type": "stream",
          "name": "stdout",
          "text": [
            "105/105 [==============================] - 19s 174ms/step - loss: 0.7511 - accuracy: 0.7309\n",
            "Epoch 2/5\n",
            "105/105 [==============================] - 20s 186ms/step - loss: 0.4735 - accuracy: 0.8293\n",
            "Epoch 3/5\n",
            "105/105 [==============================] - 18s 170ms/step - loss: 0.3878 - accuracy: 0.8592\n",
            "Epoch 4/5\n",
            "105/105 [==============================] - 19s 185ms/step - loss: 0.3213 - accuracy: 0.8862\n",
            "Epoch 5/5\n",
            "105/105 [==============================] - 19s 178ms/step - loss: 0.2806 - accuracy: 0.8979\n",
            "53/53 [==============================] - 2s 31ms/step\n",
            "Epoch 1/5\n"
          ]
        },
        {
          "output_type": "stream",
          "name": "stderr",
          "text": [
            "/usr/local/lib/python3.10/dist-packages/scikeras/wrappers.py:301: UserWarning: ``build_fn`` will be renamed to ``model`` in a future release, at which point use of ``build_fn`` will raise an Error instead.\n",
            "  warnings.warn(\n"
          ]
        },
        {
          "output_type": "stream",
          "name": "stdout",
          "text": [
            "105/105 [==============================] - 22s 198ms/step - loss: 0.7400 - accuracy: 0.7350\n",
            "Epoch 2/5\n",
            "105/105 [==============================] - 20s 186ms/step - loss: 0.4503 - accuracy: 0.8365\n",
            "Epoch 3/5\n",
            "105/105 [==============================] - 21s 196ms/step - loss: 0.3762 - accuracy: 0.8658\n",
            "Epoch 4/5\n",
            "105/105 [==============================] - 18s 171ms/step - loss: 0.3244 - accuracy: 0.8835\n",
            "Epoch 5/5\n",
            "105/105 [==============================] - 20s 194ms/step - loss: 0.2761 - accuracy: 0.8995\n",
            "53/53 [==============================] - 2s 46ms/step\n"
          ]
        },
        {
          "output_type": "stream",
          "name": "stderr",
          "text": [
            "/usr/local/lib/python3.10/dist-packages/scikeras/wrappers.py:301: UserWarning: ``build_fn`` will be renamed to ``model`` in a future release, at which point use of ``build_fn`` will raise an Error instead.\n",
            "  warnings.warn(\n"
          ]
        },
        {
          "output_type": "stream",
          "name": "stdout",
          "text": [
            "Epoch 1/5\n",
            "105/105 [==============================] - 20s 175ms/step - loss: 0.7589 - accuracy: 0.7216\n",
            "Epoch 2/5\n",
            "105/105 [==============================] - 18s 175ms/step - loss: 0.4669 - accuracy: 0.8311\n",
            "Epoch 3/5\n",
            "105/105 [==============================] - 20s 192ms/step - loss: 0.3810 - accuracy: 0.8579\n",
            "Epoch 4/5\n",
            "105/105 [==============================] - 19s 179ms/step - loss: 0.3246 - accuracy: 0.8831\n",
            "Epoch 5/5\n",
            "105/105 [==============================] - 20s 191ms/step - loss: 0.2783 - accuracy: 0.8992\n",
            "53/53 [==============================] - 2s 30ms/step\n",
            "Epoch 1/5\n"
          ]
        },
        {
          "output_type": "stream",
          "name": "stderr",
          "text": [
            "/usr/local/lib/python3.10/dist-packages/scikeras/wrappers.py:301: UserWarning: ``build_fn`` will be renamed to ``model`` in a future release, at which point use of ``build_fn`` will raise an Error instead.\n",
            "  warnings.warn(\n"
          ]
        },
        {
          "output_type": "stream",
          "name": "stdout",
          "text": [
            "105/105 [==============================] - 20s 171ms/step - loss: 0.7488 - accuracy: 0.7287\n",
            "Epoch 2/5\n",
            "105/105 [==============================] - 19s 185ms/step - loss: 0.4478 - accuracy: 0.8401\n",
            "Epoch 3/5\n",
            "105/105 [==============================] - 18s 171ms/step - loss: 0.3763 - accuracy: 0.8625\n",
            "Epoch 4/5\n",
            "105/105 [==============================] - 19s 179ms/step - loss: 0.3213 - accuracy: 0.8830\n",
            "Epoch 5/5\n",
            "105/105 [==============================] - 18s 173ms/step - loss: 0.2732 - accuracy: 0.9012\n",
            "53/53 [==============================] - 2s 30ms/step\n",
            "Epoch 1/5\n"
          ]
        },
        {
          "output_type": "stream",
          "name": "stderr",
          "text": [
            "/usr/local/lib/python3.10/dist-packages/scikeras/wrappers.py:301: UserWarning: ``build_fn`` will be renamed to ``model`` in a future release, at which point use of ``build_fn`` will raise an Error instead.\n",
            "  warnings.warn(\n"
          ]
        },
        {
          "output_type": "stream",
          "name": "stdout",
          "text": [
            "105/105 [==============================] - 20s 185ms/step - loss: 0.7433 - accuracy: 0.7308\n",
            "Epoch 2/5\n",
            "105/105 [==============================] - 18s 171ms/step - loss: 0.4544 - accuracy: 0.8392\n",
            "Epoch 3/5\n",
            "105/105 [==============================] - 19s 177ms/step - loss: 0.3853 - accuracy: 0.8622\n",
            "Epoch 4/5\n",
            "105/105 [==============================] - 19s 176ms/step - loss: 0.3221 - accuracy: 0.8860\n",
            "Epoch 5/5\n",
            "105/105 [==============================] - 18s 169ms/step - loss: 0.2806 - accuracy: 0.8976\n",
            "53/53 [==============================] - 3s 50ms/step\n",
            "Epoch 1/5\n"
          ]
        },
        {
          "output_type": "stream",
          "name": "stderr",
          "text": [
            "/usr/local/lib/python3.10/dist-packages/scikeras/wrappers.py:301: UserWarning: ``build_fn`` will be renamed to ``model`` in a future release, at which point use of ``build_fn`` will raise an Error instead.\n",
            "  warnings.warn(\n"
          ]
        },
        {
          "output_type": "stream",
          "name": "stdout",
          "text": [
            "105/105 [==============================] - 19s 170ms/step - loss: 0.7605 - accuracy: 0.7253\n",
            "Epoch 2/5\n",
            "105/105 [==============================] - 19s 184ms/step - loss: 0.4573 - accuracy: 0.8356\n",
            "Epoch 3/5\n",
            "105/105 [==============================] - 18s 169ms/step - loss: 0.3769 - accuracy: 0.8645\n",
            "Epoch 4/5\n",
            "105/105 [==============================] - 18s 169ms/step - loss: 0.3252 - accuracy: 0.8822\n",
            "Epoch 5/5\n",
            "105/105 [==============================] - 19s 184ms/step - loss: 0.2850 - accuracy: 0.8983\n",
            "53/53 [==============================] - 2s 30ms/step\n",
            "Epoch 1/5\n"
          ]
        },
        {
          "output_type": "stream",
          "name": "stderr",
          "text": [
            "/usr/local/lib/python3.10/dist-packages/scikeras/wrappers.py:301: UserWarning: ``build_fn`` will be renamed to ``model`` in a future release, at which point use of ``build_fn`` will raise an Error instead.\n",
            "  warnings.warn(\n"
          ]
        },
        {
          "output_type": "stream",
          "name": "stdout",
          "text": [
            "105/105 [==============================] - 19s 169ms/step - loss: 0.7773 - accuracy: 0.7134\n",
            "Epoch 2/5\n",
            "105/105 [==============================] - 19s 184ms/step - loss: 0.4852 - accuracy: 0.8278\n",
            "Epoch 3/5\n",
            "105/105 [==============================] - 18s 169ms/step - loss: 0.3974 - accuracy: 0.8548\n",
            "Epoch 4/5\n",
            "105/105 [==============================] - 19s 178ms/step - loss: 0.3308 - accuracy: 0.8811\n",
            "Epoch 5/5\n",
            "105/105 [==============================] - 18s 174ms/step - loss: 0.2826 - accuracy: 0.9004\n",
            "53/53 [==============================] - 2s 30ms/step\n",
            "Epoch 1/5\n"
          ]
        },
        {
          "output_type": "stream",
          "name": "stderr",
          "text": [
            "/usr/local/lib/python3.10/dist-packages/scikeras/wrappers.py:301: UserWarning: ``build_fn`` will be renamed to ``model`` in a future release, at which point use of ``build_fn`` will raise an Error instead.\n",
            "  warnings.warn(\n"
          ]
        },
        {
          "output_type": "stream",
          "name": "stdout",
          "text": [
            "105/105 [==============================] - 20s 184ms/step - loss: 0.7554 - accuracy: 0.7326\n",
            "Epoch 2/5\n",
            "105/105 [==============================] - 18s 170ms/step - loss: 0.4642 - accuracy: 0.8373\n",
            "Epoch 3/5\n",
            "105/105 [==============================] - 18s 175ms/step - loss: 0.3904 - accuracy: 0.8608\n",
            "Epoch 4/5\n",
            "105/105 [==============================] - 19s 177ms/step - loss: 0.3166 - accuracy: 0.8857\n",
            "Epoch 5/5\n",
            "105/105 [==============================] - 18s 169ms/step - loss: 0.2715 - accuracy: 0.8997\n",
            "53/53 [==============================] - 3s 46ms/step\n",
            "Epoch 1/10\n"
          ]
        },
        {
          "output_type": "stream",
          "name": "stderr",
          "text": [
            "/usr/local/lib/python3.10/dist-packages/scikeras/wrappers.py:301: UserWarning: ``build_fn`` will be renamed to ``model`` in a future release, at which point use of ``build_fn`` will raise an Error instead.\n",
            "  warnings.warn(\n"
          ]
        },
        {
          "output_type": "stream",
          "name": "stdout",
          "text": [
            "105/105 [==============================] - 19s 169ms/step - loss: 0.7592 - accuracy: 0.7240\n",
            "Epoch 2/10\n",
            "105/105 [==============================] - 18s 172ms/step - loss: 0.4639 - accuracy: 0.8302\n",
            "Epoch 3/10\n",
            "105/105 [==============================] - 19s 178ms/step - loss: 0.3919 - accuracy: 0.8615\n",
            "Epoch 4/10\n",
            "105/105 [==============================] - 18s 168ms/step - loss: 0.3133 - accuracy: 0.8851\n",
            "Epoch 5/10\n",
            "105/105 [==============================] - 19s 180ms/step - loss: 0.2897 - accuracy: 0.8941\n",
            "Epoch 6/10\n",
            "105/105 [==============================] - 18s 170ms/step - loss: 0.2352 - accuracy: 0.9154\n",
            "Epoch 7/10\n",
            "105/105 [==============================] - 18s 169ms/step - loss: 0.1995 - accuracy: 0.9263\n",
            "Epoch 8/10\n",
            "105/105 [==============================] - 19s 183ms/step - loss: 0.1835 - accuracy: 0.9325\n",
            "Epoch 9/10\n",
            "105/105 [==============================] - 18s 169ms/step - loss: 0.1484 - accuracy: 0.9464\n",
            "Epoch 10/10\n",
            "105/105 [==============================] - 18s 168ms/step - loss: 0.1184 - accuracy: 0.9554\n",
            "53/53 [==============================] - 2s 30ms/step\n",
            "Epoch 1/10\n"
          ]
        },
        {
          "output_type": "stream",
          "name": "stderr",
          "text": [
            "/usr/local/lib/python3.10/dist-packages/scikeras/wrappers.py:301: UserWarning: ``build_fn`` will be renamed to ``model`` in a future release, at which point use of ``build_fn`` will raise an Error instead.\n",
            "  warnings.warn(\n"
          ]
        },
        {
          "output_type": "stream",
          "name": "stdout",
          "text": [
            "105/105 [==============================] - 20s 185ms/step - loss: 0.7680 - accuracy: 0.7275\n",
            "Epoch 2/10\n",
            "105/105 [==============================] - 18s 169ms/step - loss: 0.4795 - accuracy: 0.8277\n",
            "Epoch 3/10\n",
            "105/105 [==============================] - 18s 176ms/step - loss: 0.3865 - accuracy: 0.8595\n",
            "Epoch 4/10\n",
            "105/105 [==============================] - 18s 174ms/step - loss: 0.3309 - accuracy: 0.8812\n",
            "Epoch 5/10\n",
            "105/105 [==============================] - 18s 169ms/step - loss: 0.2885 - accuracy: 0.8940\n",
            "Epoch 6/10\n",
            "105/105 [==============================] - 19s 183ms/step - loss: 0.2546 - accuracy: 0.9057\n",
            "Epoch 7/10\n",
            "105/105 [==============================] - 18s 169ms/step - loss: 0.2151 - accuracy: 0.9226\n",
            "Epoch 8/10\n",
            "105/105 [==============================] - 18s 169ms/step - loss: 0.1790 - accuracy: 0.9324\n",
            "Epoch 9/10\n",
            "105/105 [==============================] - 19s 183ms/step - loss: 0.1624 - accuracy: 0.9360\n",
            "Epoch 10/10\n",
            "105/105 [==============================] - 18s 168ms/step - loss: 0.1265 - accuracy: 0.9523\n",
            "53/53 [==============================] - 2s 30ms/step\n",
            "Epoch 1/10\n"
          ]
        },
        {
          "output_type": "stream",
          "name": "stderr",
          "text": [
            "/usr/local/lib/python3.10/dist-packages/scikeras/wrappers.py:301: UserWarning: ``build_fn`` will be renamed to ``model`` in a future release, at which point use of ``build_fn`` will raise an Error instead.\n",
            "  warnings.warn(\n"
          ]
        },
        {
          "output_type": "stream",
          "name": "stdout",
          "text": [
            "105/105 [==============================] - 19s 168ms/step - loss: 0.7672 - accuracy: 0.7261\n",
            "Epoch 2/10\n",
            "105/105 [==============================] - 19s 183ms/step - loss: 0.4533 - accuracy: 0.8395\n",
            "Epoch 3/10\n",
            "105/105 [==============================] - 18s 168ms/step - loss: 0.3728 - accuracy: 0.8671\n",
            "Epoch 4/10\n",
            "105/105 [==============================] - 18s 168ms/step - loss: 0.3205 - accuracy: 0.8853\n",
            "Epoch 5/10\n",
            "105/105 [==============================] - 19s 183ms/step - loss: 0.2745 - accuracy: 0.9010\n",
            "Epoch 6/10\n",
            "105/105 [==============================] - 18s 168ms/step - loss: 0.2342 - accuracy: 0.9187\n",
            "Epoch 7/10\n",
            "105/105 [==============================] - 18s 169ms/step - loss: 0.1995 - accuracy: 0.9291\n",
            "Epoch 8/10\n",
            "105/105 [==============================] - 19s 183ms/step - loss: 0.1639 - accuracy: 0.9400\n",
            "Epoch 9/10\n",
            "105/105 [==============================] - 18s 168ms/step - loss: 0.1504 - accuracy: 0.9436\n",
            "Epoch 10/10\n",
            "105/105 [==============================] - 18s 172ms/step - loss: 0.1114 - accuracy: 0.9619\n",
            "53/53 [==============================] - 2s 31ms/step\n"
          ]
        },
        {
          "output_type": "stream",
          "name": "stderr",
          "text": [
            "/usr/local/lib/python3.10/dist-packages/scikeras/wrappers.py:301: UserWarning: ``build_fn`` will be renamed to ``model`` in a future release, at which point use of ``build_fn`` will raise an Error instead.\n",
            "  warnings.warn(\n"
          ]
        },
        {
          "output_type": "stream",
          "name": "stdout",
          "text": [
            "Epoch 1/10\n",
            "105/105 [==============================] - 20s 172ms/step - loss: 0.7592 - accuracy: 0.7246\n",
            "Epoch 2/10\n",
            "105/105 [==============================] - 18s 169ms/step - loss: 0.4650 - accuracy: 0.8338\n",
            "Epoch 3/10\n",
            "105/105 [==============================] - 19s 183ms/step - loss: 0.3784 - accuracy: 0.8615\n",
            "Epoch 4/10\n",
            "105/105 [==============================] - 18s 169ms/step - loss: 0.3201 - accuracy: 0.8843\n",
            "Epoch 5/10\n",
            "105/105 [==============================] - 18s 168ms/step - loss: 0.2775 - accuracy: 0.8977\n",
            "Epoch 6/10\n",
            "105/105 [==============================] - 19s 182ms/step - loss: 0.2373 - accuracy: 0.9085\n",
            "Epoch 7/10\n",
            "105/105 [==============================] - 18s 168ms/step - loss: 0.2031 - accuracy: 0.9242\n",
            "Epoch 8/10\n",
            "105/105 [==============================] - 18s 169ms/step - loss: 0.1619 - accuracy: 0.9419\n",
            "Epoch 9/10\n",
            "105/105 [==============================] - 19s 181ms/step - loss: 0.1439 - accuracy: 0.9475\n",
            "Epoch 10/10\n",
            "105/105 [==============================] - 18s 168ms/step - loss: 0.1174 - accuracy: 0.9569\n",
            "53/53 [==============================] - 2s 31ms/step\n",
            "Epoch 1/10\n"
          ]
        },
        {
          "output_type": "stream",
          "name": "stderr",
          "text": [
            "/usr/local/lib/python3.10/dist-packages/scikeras/wrappers.py:301: UserWarning: ``build_fn`` will be renamed to ``model`` in a future release, at which point use of ``build_fn`` will raise an Error instead.\n",
            "  warnings.warn(\n"
          ]
        },
        {
          "output_type": "stream",
          "name": "stdout",
          "text": [
            "105/105 [==============================] - 20s 181ms/step - loss: 0.7708 - accuracy: 0.7159\n",
            "Epoch 2/10\n",
            "105/105 [==============================] - 18s 170ms/step - loss: 0.4773 - accuracy: 0.8277\n",
            "Epoch 3/10\n",
            "105/105 [==============================] - 18s 168ms/step - loss: 0.4034 - accuracy: 0.8532\n",
            "Epoch 4/10\n",
            "105/105 [==============================] - 19s 182ms/step - loss: 0.3386 - accuracy: 0.8781\n",
            "Epoch 5/10\n",
            "105/105 [==============================] - 18s 168ms/step - loss: 0.2963 - accuracy: 0.8913\n",
            "Epoch 6/10\n",
            "105/105 [==============================] - 18s 168ms/step - loss: 0.2604 - accuracy: 0.9034\n",
            "Epoch 7/10\n",
            "105/105 [==============================] - 19s 182ms/step - loss: 0.2165 - accuracy: 0.9181\n",
            "Epoch 8/10\n",
            "105/105 [==============================] - 18s 168ms/step - loss: 0.1888 - accuracy: 0.9283\n",
            "Epoch 9/10\n",
            "105/105 [==============================] - 18s 168ms/step - loss: 0.1579 - accuracy: 0.9423\n",
            "Epoch 10/10\n",
            "105/105 [==============================] - 19s 183ms/step - loss: 0.1320 - accuracy: 0.9498\n",
            "53/53 [==============================] - 3s 47ms/step\n"
          ]
        },
        {
          "output_type": "stream",
          "name": "stderr",
          "text": [
            "/usr/local/lib/python3.10/dist-packages/scikeras/wrappers.py:301: UserWarning: ``build_fn`` will be renamed to ``model`` in a future release, at which point use of ``build_fn`` will raise an Error instead.\n",
            "  warnings.warn(\n"
          ]
        },
        {
          "output_type": "stream",
          "name": "stdout",
          "text": [
            "Epoch 1/10\n",
            "105/105 [==============================] - 20s 169ms/step - loss: 0.7638 - accuracy: 0.7251\n",
            "Epoch 2/10\n",
            "105/105 [==============================] - 18s 168ms/step - loss: 0.4670 - accuracy: 0.8311\n",
            "Epoch 3/10\n",
            "105/105 [==============================] - 19s 183ms/step - loss: 0.3737 - accuracy: 0.8677\n",
            "Epoch 4/10\n",
            "105/105 [==============================] - 18s 168ms/step - loss: 0.3211 - accuracy: 0.8806\n",
            "Epoch 5/10\n",
            "105/105 [==============================] - 18s 172ms/step - loss: 0.2679 - accuracy: 0.9036\n",
            "Epoch 6/10\n",
            "105/105 [==============================] - 19s 178ms/step - loss: 0.2278 - accuracy: 0.9201\n",
            "Epoch 7/10\n",
            "105/105 [==============================] - 18s 168ms/step - loss: 0.2016 - accuracy: 0.9268\n",
            "Epoch 8/10\n",
            "105/105 [==============================] - 19s 180ms/step - loss: 0.1610 - accuracy: 0.9414\n",
            "Epoch 9/10\n",
            "105/105 [==============================] - 18s 169ms/step - loss: 0.1415 - accuracy: 0.9469\n",
            "Epoch 10/10\n",
            "105/105 [==============================] - 18s 168ms/step - loss: 0.1193 - accuracy: 0.9549\n",
            "53/53 [==============================] - 2s 30ms/step\n",
            "Epoch 1/10\n"
          ]
        },
        {
          "output_type": "stream",
          "name": "stderr",
          "text": [
            "/usr/local/lib/python3.10/dist-packages/scikeras/wrappers.py:301: UserWarning: ``build_fn`` will be renamed to ``model`` in a future release, at which point use of ``build_fn`` will raise an Error instead.\n",
            "  warnings.warn(\n"
          ]
        },
        {
          "output_type": "stream",
          "name": "stdout",
          "text": [
            "105/105 [==============================] - 20s 184ms/step - loss: 0.7634 - accuracy: 0.7219\n",
            "Epoch 2/10\n",
            "105/105 [==============================] - 18s 168ms/step - loss: 0.4527 - accuracy: 0.8362\n",
            "Epoch 3/10\n",
            "105/105 [==============================] - 18s 169ms/step - loss: 0.3704 - accuracy: 0.8630\n",
            "Epoch 4/10\n",
            "105/105 [==============================] - 19s 183ms/step - loss: 0.3090 - accuracy: 0.8884\n",
            "Epoch 5/10\n",
            "105/105 [==============================] - 18s 169ms/step - loss: 0.2548 - accuracy: 0.9094\n",
            "Epoch 6/10\n",
            "105/105 [==============================] - 18s 172ms/step - loss: 0.2141 - accuracy: 0.9205\n",
            "Epoch 7/10\n",
            "105/105 [==============================] - 19s 179ms/step - loss: 0.1761 - accuracy: 0.9352\n",
            "Epoch 8/10\n",
            "105/105 [==============================] - 18s 169ms/step - loss: 0.1517 - accuracy: 0.9404\n",
            "Epoch 9/10\n",
            "105/105 [==============================] - 19s 182ms/step - loss: 0.1318 - accuracy: 0.9524\n",
            "Epoch 10/10\n",
            " 71/105 [===================>..........] - ETA: 5s - loss: 0.1103 - accuracy: 0.9562"
          ]
        },
        {
          "output_type": "error",
          "ename": "KeyboardInterrupt",
          "evalue": "ignored",
          "traceback": [
            "\u001b[0;31m---------------------------------------------------------------------------\u001b[0m",
            "\u001b[0;31mKeyboardInterrupt\u001b[0m                         Traceback (most recent call last)",
            "\u001b[0;32m<ipython-input-17-a505afd83c0d>\u001b[0m in \u001b[0;36m<cell line: 1>\u001b[0;34m()\u001b[0m\n\u001b[0;32m----> 1\u001b[0;31m \u001b[0mgrid_result\u001b[0m \u001b[0;34m=\u001b[0m \u001b[0mgrid\u001b[0m\u001b[0;34m.\u001b[0m\u001b[0mfit\u001b[0m\u001b[0;34m(\u001b[0m\u001b[0mX_train\u001b[0m\u001b[0;34m[\u001b[0m\u001b[0;34m:\u001b[0m\u001b[0;36m10000\u001b[0m\u001b[0;34m]\u001b[0m\u001b[0;34m,\u001b[0m \u001b[0my_train\u001b[0m\u001b[0;34m[\u001b[0m\u001b[0;34m:\u001b[0m\u001b[0;36m10000\u001b[0m\u001b[0;34m]\u001b[0m\u001b[0;34m)\u001b[0m\u001b[0;34m\u001b[0m\u001b[0;34m\u001b[0m\u001b[0m\n\u001b[0m\u001b[1;32m      2\u001b[0m \u001b[0my_pred\u001b[0m \u001b[0;34m=\u001b[0m \u001b[0mgrid_result\u001b[0m\u001b[0;34m.\u001b[0m\u001b[0mpredict\u001b[0m\u001b[0;34m(\u001b[0m\u001b[0mX_test\u001b[0m\u001b[0;34m)\u001b[0m\u001b[0;34m\u001b[0m\u001b[0;34m\u001b[0m\u001b[0m\n\u001b[1;32m      3\u001b[0m \u001b[0mprint\u001b[0m\u001b[0;34m(\u001b[0m\u001b[0maccuracy_score\u001b[0m\u001b[0;34m(\u001b[0m\u001b[0my_test\u001b[0m\u001b[0;34m,\u001b[0m \u001b[0my_pred\u001b[0m\u001b[0;34m)\u001b[0m\u001b[0;34m)\u001b[0m\u001b[0;34m\u001b[0m\u001b[0;34m\u001b[0m\u001b[0m\n",
            "\u001b[0;32m/usr/local/lib/python3.10/dist-packages/sklearn/model_selection/_search.py\u001b[0m in \u001b[0;36mfit\u001b[0;34m(self, X, y, groups, **fit_params)\u001b[0m\n\u001b[1;32m    872\u001b[0m                 \u001b[0;32mreturn\u001b[0m \u001b[0mresults\u001b[0m\u001b[0;34m\u001b[0m\u001b[0;34m\u001b[0m\u001b[0m\n\u001b[1;32m    873\u001b[0m \u001b[0;34m\u001b[0m\u001b[0m\n\u001b[0;32m--> 874\u001b[0;31m             \u001b[0mself\u001b[0m\u001b[0;34m.\u001b[0m\u001b[0m_run_search\u001b[0m\u001b[0;34m(\u001b[0m\u001b[0mevaluate_candidates\u001b[0m\u001b[0;34m)\u001b[0m\u001b[0;34m\u001b[0m\u001b[0;34m\u001b[0m\u001b[0m\n\u001b[0m\u001b[1;32m    875\u001b[0m \u001b[0;34m\u001b[0m\u001b[0m\n\u001b[1;32m    876\u001b[0m             \u001b[0;31m# multimetric is determined here because in the case of a callable\u001b[0m\u001b[0;34m\u001b[0m\u001b[0;34m\u001b[0m\u001b[0m\n",
            "\u001b[0;32m/usr/local/lib/python3.10/dist-packages/sklearn/model_selection/_search.py\u001b[0m in \u001b[0;36m_run_search\u001b[0;34m(self, evaluate_candidates)\u001b[0m\n\u001b[1;32m   1386\u001b[0m     \u001b[0;32mdef\u001b[0m \u001b[0m_run_search\u001b[0m\u001b[0;34m(\u001b[0m\u001b[0mself\u001b[0m\u001b[0;34m,\u001b[0m \u001b[0mevaluate_candidates\u001b[0m\u001b[0;34m)\u001b[0m\u001b[0;34m:\u001b[0m\u001b[0;34m\u001b[0m\u001b[0;34m\u001b[0m\u001b[0m\n\u001b[1;32m   1387\u001b[0m         \u001b[0;34m\"\"\"Search all candidates in param_grid\"\"\"\u001b[0m\u001b[0;34m\u001b[0m\u001b[0;34m\u001b[0m\u001b[0m\n\u001b[0;32m-> 1388\u001b[0;31m         \u001b[0mevaluate_candidates\u001b[0m\u001b[0;34m(\u001b[0m\u001b[0mParameterGrid\u001b[0m\u001b[0;34m(\u001b[0m\u001b[0mself\u001b[0m\u001b[0;34m.\u001b[0m\u001b[0mparam_grid\u001b[0m\u001b[0;34m)\u001b[0m\u001b[0;34m)\u001b[0m\u001b[0;34m\u001b[0m\u001b[0;34m\u001b[0m\u001b[0m\n\u001b[0m\u001b[1;32m   1389\u001b[0m \u001b[0;34m\u001b[0m\u001b[0m\n\u001b[1;32m   1390\u001b[0m \u001b[0;34m\u001b[0m\u001b[0m\n",
            "\u001b[0;32m/usr/local/lib/python3.10/dist-packages/sklearn/model_selection/_search.py\u001b[0m in \u001b[0;36mevaluate_candidates\u001b[0;34m(candidate_params, cv, more_results)\u001b[0m\n\u001b[1;32m    819\u001b[0m                     )\n\u001b[1;32m    820\u001b[0m \u001b[0;34m\u001b[0m\u001b[0m\n\u001b[0;32m--> 821\u001b[0;31m                 out = parallel(\n\u001b[0m\u001b[1;32m    822\u001b[0m                     delayed(_fit_and_score)(\n\u001b[1;32m    823\u001b[0m                         \u001b[0mclone\u001b[0m\u001b[0;34m(\u001b[0m\u001b[0mbase_estimator\u001b[0m\u001b[0;34m)\u001b[0m\u001b[0;34m,\u001b[0m\u001b[0;34m\u001b[0m\u001b[0;34m\u001b[0m\u001b[0m\n",
            "\u001b[0;32m/usr/local/lib/python3.10/dist-packages/sklearn/utils/parallel.py\u001b[0m in \u001b[0;36m__call__\u001b[0;34m(self, iterable)\u001b[0m\n\u001b[1;32m     61\u001b[0m             \u001b[0;32mfor\u001b[0m \u001b[0mdelayed_func\u001b[0m\u001b[0;34m,\u001b[0m \u001b[0margs\u001b[0m\u001b[0;34m,\u001b[0m \u001b[0mkwargs\u001b[0m \u001b[0;32min\u001b[0m \u001b[0miterable\u001b[0m\u001b[0;34m\u001b[0m\u001b[0;34m\u001b[0m\u001b[0m\n\u001b[1;32m     62\u001b[0m         )\n\u001b[0;32m---> 63\u001b[0;31m         \u001b[0;32mreturn\u001b[0m \u001b[0msuper\u001b[0m\u001b[0;34m(\u001b[0m\u001b[0;34m)\u001b[0m\u001b[0;34m.\u001b[0m\u001b[0m__call__\u001b[0m\u001b[0;34m(\u001b[0m\u001b[0miterable_with_config\u001b[0m\u001b[0;34m)\u001b[0m\u001b[0;34m\u001b[0m\u001b[0;34m\u001b[0m\u001b[0m\n\u001b[0m\u001b[1;32m     64\u001b[0m \u001b[0;34m\u001b[0m\u001b[0m\n\u001b[1;32m     65\u001b[0m \u001b[0;34m\u001b[0m\u001b[0m\n",
            "\u001b[0;32m/usr/local/lib/python3.10/dist-packages/joblib/parallel.py\u001b[0m in \u001b[0;36m__call__\u001b[0;34m(self, iterable)\u001b[0m\n\u001b[1;32m   1086\u001b[0m                 \u001b[0mself\u001b[0m\u001b[0;34m.\u001b[0m\u001b[0m_iterating\u001b[0m \u001b[0;34m=\u001b[0m \u001b[0mself\u001b[0m\u001b[0;34m.\u001b[0m\u001b[0m_original_iterator\u001b[0m \u001b[0;32mis\u001b[0m \u001b[0;32mnot\u001b[0m \u001b[0;32mNone\u001b[0m\u001b[0;34m\u001b[0m\u001b[0;34m\u001b[0m\u001b[0m\n\u001b[1;32m   1087\u001b[0m \u001b[0;34m\u001b[0m\u001b[0m\n\u001b[0;32m-> 1088\u001b[0;31m             \u001b[0;32mwhile\u001b[0m \u001b[0mself\u001b[0m\u001b[0;34m.\u001b[0m\u001b[0mdispatch_one_batch\u001b[0m\u001b[0;34m(\u001b[0m\u001b[0miterator\u001b[0m\u001b[0;34m)\u001b[0m\u001b[0;34m:\u001b[0m\u001b[0;34m\u001b[0m\u001b[0;34m\u001b[0m\u001b[0m\n\u001b[0m\u001b[1;32m   1089\u001b[0m                 \u001b[0;32mpass\u001b[0m\u001b[0;34m\u001b[0m\u001b[0;34m\u001b[0m\u001b[0m\n\u001b[1;32m   1090\u001b[0m \u001b[0;34m\u001b[0m\u001b[0m\n",
            "\u001b[0;32m/usr/local/lib/python3.10/dist-packages/joblib/parallel.py\u001b[0m in \u001b[0;36mdispatch_one_batch\u001b[0;34m(self, iterator)\u001b[0m\n\u001b[1;32m    899\u001b[0m                 \u001b[0;32mreturn\u001b[0m \u001b[0;32mFalse\u001b[0m\u001b[0;34m\u001b[0m\u001b[0;34m\u001b[0m\u001b[0m\n\u001b[1;32m    900\u001b[0m             \u001b[0;32melse\u001b[0m\u001b[0;34m:\u001b[0m\u001b[0;34m\u001b[0m\u001b[0;34m\u001b[0m\u001b[0m\n\u001b[0;32m--> 901\u001b[0;31m                 \u001b[0mself\u001b[0m\u001b[0;34m.\u001b[0m\u001b[0m_dispatch\u001b[0m\u001b[0;34m(\u001b[0m\u001b[0mtasks\u001b[0m\u001b[0;34m)\u001b[0m\u001b[0;34m\u001b[0m\u001b[0;34m\u001b[0m\u001b[0m\n\u001b[0m\u001b[1;32m    902\u001b[0m                 \u001b[0;32mreturn\u001b[0m \u001b[0;32mTrue\u001b[0m\u001b[0;34m\u001b[0m\u001b[0;34m\u001b[0m\u001b[0m\n\u001b[1;32m    903\u001b[0m \u001b[0;34m\u001b[0m\u001b[0m\n",
            "\u001b[0;32m/usr/local/lib/python3.10/dist-packages/joblib/parallel.py\u001b[0m in \u001b[0;36m_dispatch\u001b[0;34m(self, batch)\u001b[0m\n\u001b[1;32m    817\u001b[0m         \u001b[0;32mwith\u001b[0m \u001b[0mself\u001b[0m\u001b[0;34m.\u001b[0m\u001b[0m_lock\u001b[0m\u001b[0;34m:\u001b[0m\u001b[0;34m\u001b[0m\u001b[0;34m\u001b[0m\u001b[0m\n\u001b[1;32m    818\u001b[0m             \u001b[0mjob_idx\u001b[0m \u001b[0;34m=\u001b[0m \u001b[0mlen\u001b[0m\u001b[0;34m(\u001b[0m\u001b[0mself\u001b[0m\u001b[0;34m.\u001b[0m\u001b[0m_jobs\u001b[0m\u001b[0;34m)\u001b[0m\u001b[0;34m\u001b[0m\u001b[0;34m\u001b[0m\u001b[0m\n\u001b[0;32m--> 819\u001b[0;31m             \u001b[0mjob\u001b[0m \u001b[0;34m=\u001b[0m \u001b[0mself\u001b[0m\u001b[0;34m.\u001b[0m\u001b[0m_backend\u001b[0m\u001b[0;34m.\u001b[0m\u001b[0mapply_async\u001b[0m\u001b[0;34m(\u001b[0m\u001b[0mbatch\u001b[0m\u001b[0;34m,\u001b[0m \u001b[0mcallback\u001b[0m\u001b[0;34m=\u001b[0m\u001b[0mcb\u001b[0m\u001b[0;34m)\u001b[0m\u001b[0;34m\u001b[0m\u001b[0;34m\u001b[0m\u001b[0m\n\u001b[0m\u001b[1;32m    820\u001b[0m             \u001b[0;31m# A job can complete so quickly than its callback is\u001b[0m\u001b[0;34m\u001b[0m\u001b[0;34m\u001b[0m\u001b[0m\n\u001b[1;32m    821\u001b[0m             \u001b[0;31m# called before we get here, causing self._jobs to\u001b[0m\u001b[0;34m\u001b[0m\u001b[0;34m\u001b[0m\u001b[0m\n",
            "\u001b[0;32m/usr/local/lib/python3.10/dist-packages/joblib/_parallel_backends.py\u001b[0m in \u001b[0;36mapply_async\u001b[0;34m(self, func, callback)\u001b[0m\n\u001b[1;32m    206\u001b[0m     \u001b[0;32mdef\u001b[0m \u001b[0mapply_async\u001b[0m\u001b[0;34m(\u001b[0m\u001b[0mself\u001b[0m\u001b[0;34m,\u001b[0m \u001b[0mfunc\u001b[0m\u001b[0;34m,\u001b[0m \u001b[0mcallback\u001b[0m\u001b[0;34m=\u001b[0m\u001b[0;32mNone\u001b[0m\u001b[0;34m)\u001b[0m\u001b[0;34m:\u001b[0m\u001b[0;34m\u001b[0m\u001b[0;34m\u001b[0m\u001b[0m\n\u001b[1;32m    207\u001b[0m         \u001b[0;34m\"\"\"Schedule a func to be run\"\"\"\u001b[0m\u001b[0;34m\u001b[0m\u001b[0;34m\u001b[0m\u001b[0m\n\u001b[0;32m--> 208\u001b[0;31m         \u001b[0mresult\u001b[0m \u001b[0;34m=\u001b[0m \u001b[0mImmediateResult\u001b[0m\u001b[0;34m(\u001b[0m\u001b[0mfunc\u001b[0m\u001b[0;34m)\u001b[0m\u001b[0;34m\u001b[0m\u001b[0;34m\u001b[0m\u001b[0m\n\u001b[0m\u001b[1;32m    209\u001b[0m         \u001b[0;32mif\u001b[0m \u001b[0mcallback\u001b[0m\u001b[0;34m:\u001b[0m\u001b[0;34m\u001b[0m\u001b[0;34m\u001b[0m\u001b[0m\n\u001b[1;32m    210\u001b[0m             \u001b[0mcallback\u001b[0m\u001b[0;34m(\u001b[0m\u001b[0mresult\u001b[0m\u001b[0;34m)\u001b[0m\u001b[0;34m\u001b[0m\u001b[0;34m\u001b[0m\u001b[0m\n",
            "\u001b[0;32m/usr/local/lib/python3.10/dist-packages/joblib/_parallel_backends.py\u001b[0m in \u001b[0;36m__init__\u001b[0;34m(self, batch)\u001b[0m\n\u001b[1;32m    595\u001b[0m         \u001b[0;31m# Don't delay the application, to avoid keeping the input\u001b[0m\u001b[0;34m\u001b[0m\u001b[0;34m\u001b[0m\u001b[0m\n\u001b[1;32m    596\u001b[0m         \u001b[0;31m# arguments in memory\u001b[0m\u001b[0;34m\u001b[0m\u001b[0;34m\u001b[0m\u001b[0m\n\u001b[0;32m--> 597\u001b[0;31m         \u001b[0mself\u001b[0m\u001b[0;34m.\u001b[0m\u001b[0mresults\u001b[0m \u001b[0;34m=\u001b[0m \u001b[0mbatch\u001b[0m\u001b[0;34m(\u001b[0m\u001b[0;34m)\u001b[0m\u001b[0;34m\u001b[0m\u001b[0;34m\u001b[0m\u001b[0m\n\u001b[0m\u001b[1;32m    598\u001b[0m \u001b[0;34m\u001b[0m\u001b[0m\n\u001b[1;32m    599\u001b[0m     \u001b[0;32mdef\u001b[0m \u001b[0mget\u001b[0m\u001b[0;34m(\u001b[0m\u001b[0mself\u001b[0m\u001b[0;34m)\u001b[0m\u001b[0;34m:\u001b[0m\u001b[0;34m\u001b[0m\u001b[0;34m\u001b[0m\u001b[0m\n",
            "\u001b[0;32m/usr/local/lib/python3.10/dist-packages/joblib/parallel.py\u001b[0m in \u001b[0;36m__call__\u001b[0;34m(self)\u001b[0m\n\u001b[1;32m    286\u001b[0m         \u001b[0;31m# change the default number of processes to -1\u001b[0m\u001b[0;34m\u001b[0m\u001b[0;34m\u001b[0m\u001b[0m\n\u001b[1;32m    287\u001b[0m         \u001b[0;32mwith\u001b[0m \u001b[0mparallel_backend\u001b[0m\u001b[0;34m(\u001b[0m\u001b[0mself\u001b[0m\u001b[0;34m.\u001b[0m\u001b[0m_backend\u001b[0m\u001b[0;34m,\u001b[0m \u001b[0mn_jobs\u001b[0m\u001b[0;34m=\u001b[0m\u001b[0mself\u001b[0m\u001b[0;34m.\u001b[0m\u001b[0m_n_jobs\u001b[0m\u001b[0;34m)\u001b[0m\u001b[0;34m:\u001b[0m\u001b[0;34m\u001b[0m\u001b[0;34m\u001b[0m\u001b[0m\n\u001b[0;32m--> 288\u001b[0;31m             return [func(*args, **kwargs)\n\u001b[0m\u001b[1;32m    289\u001b[0m                     for func, args, kwargs in self.items]\n\u001b[1;32m    290\u001b[0m \u001b[0;34m\u001b[0m\u001b[0m\n",
            "\u001b[0;32m/usr/local/lib/python3.10/dist-packages/joblib/parallel.py\u001b[0m in \u001b[0;36m<listcomp>\u001b[0;34m(.0)\u001b[0m\n\u001b[1;32m    286\u001b[0m         \u001b[0;31m# change the default number of processes to -1\u001b[0m\u001b[0;34m\u001b[0m\u001b[0;34m\u001b[0m\u001b[0m\n\u001b[1;32m    287\u001b[0m         \u001b[0;32mwith\u001b[0m \u001b[0mparallel_backend\u001b[0m\u001b[0;34m(\u001b[0m\u001b[0mself\u001b[0m\u001b[0;34m.\u001b[0m\u001b[0m_backend\u001b[0m\u001b[0;34m,\u001b[0m \u001b[0mn_jobs\u001b[0m\u001b[0;34m=\u001b[0m\u001b[0mself\u001b[0m\u001b[0;34m.\u001b[0m\u001b[0m_n_jobs\u001b[0m\u001b[0;34m)\u001b[0m\u001b[0;34m:\u001b[0m\u001b[0;34m\u001b[0m\u001b[0;34m\u001b[0m\u001b[0m\n\u001b[0;32m--> 288\u001b[0;31m             return [func(*args, **kwargs)\n\u001b[0m\u001b[1;32m    289\u001b[0m                     for func, args, kwargs in self.items]\n\u001b[1;32m    290\u001b[0m \u001b[0;34m\u001b[0m\u001b[0m\n",
            "\u001b[0;32m/usr/local/lib/python3.10/dist-packages/sklearn/utils/parallel.py\u001b[0m in \u001b[0;36m__call__\u001b[0;34m(self, *args, **kwargs)\u001b[0m\n\u001b[1;32m    121\u001b[0m             \u001b[0mconfig\u001b[0m \u001b[0;34m=\u001b[0m \u001b[0;34m{\u001b[0m\u001b[0;34m}\u001b[0m\u001b[0;34m\u001b[0m\u001b[0;34m\u001b[0m\u001b[0m\n\u001b[1;32m    122\u001b[0m         \u001b[0;32mwith\u001b[0m \u001b[0mconfig_context\u001b[0m\u001b[0;34m(\u001b[0m\u001b[0;34m**\u001b[0m\u001b[0mconfig\u001b[0m\u001b[0;34m)\u001b[0m\u001b[0;34m:\u001b[0m\u001b[0;34m\u001b[0m\u001b[0;34m\u001b[0m\u001b[0m\n\u001b[0;32m--> 123\u001b[0;31m             \u001b[0;32mreturn\u001b[0m \u001b[0mself\u001b[0m\u001b[0;34m.\u001b[0m\u001b[0mfunction\u001b[0m\u001b[0;34m(\u001b[0m\u001b[0;34m*\u001b[0m\u001b[0margs\u001b[0m\u001b[0;34m,\u001b[0m \u001b[0;34m**\u001b[0m\u001b[0mkwargs\u001b[0m\u001b[0;34m)\u001b[0m\u001b[0;34m\u001b[0m\u001b[0;34m\u001b[0m\u001b[0m\n\u001b[0m",
            "\u001b[0;32m/usr/local/lib/python3.10/dist-packages/sklearn/model_selection/_validation.py\u001b[0m in \u001b[0;36m_fit_and_score\u001b[0;34m(estimator, X, y, scorer, train, test, verbose, parameters, fit_params, return_train_score, return_parameters, return_n_test_samples, return_times, return_estimator, split_progress, candidate_progress, error_score)\u001b[0m\n\u001b[1;32m    684\u001b[0m             \u001b[0mestimator\u001b[0m\u001b[0;34m.\u001b[0m\u001b[0mfit\u001b[0m\u001b[0;34m(\u001b[0m\u001b[0mX_train\u001b[0m\u001b[0;34m,\u001b[0m \u001b[0;34m**\u001b[0m\u001b[0mfit_params\u001b[0m\u001b[0;34m)\u001b[0m\u001b[0;34m\u001b[0m\u001b[0;34m\u001b[0m\u001b[0m\n\u001b[1;32m    685\u001b[0m         \u001b[0;32melse\u001b[0m\u001b[0;34m:\u001b[0m\u001b[0;34m\u001b[0m\u001b[0;34m\u001b[0m\u001b[0m\n\u001b[0;32m--> 686\u001b[0;31m             \u001b[0mestimator\u001b[0m\u001b[0;34m.\u001b[0m\u001b[0mfit\u001b[0m\u001b[0;34m(\u001b[0m\u001b[0mX_train\u001b[0m\u001b[0;34m,\u001b[0m \u001b[0my_train\u001b[0m\u001b[0;34m,\u001b[0m \u001b[0;34m**\u001b[0m\u001b[0mfit_params\u001b[0m\u001b[0;34m)\u001b[0m\u001b[0;34m\u001b[0m\u001b[0;34m\u001b[0m\u001b[0m\n\u001b[0m\u001b[1;32m    687\u001b[0m \u001b[0;34m\u001b[0m\u001b[0m\n\u001b[1;32m    688\u001b[0m     \u001b[0;32mexcept\u001b[0m \u001b[0mException\u001b[0m\u001b[0;34m:\u001b[0m\u001b[0;34m\u001b[0m\u001b[0;34m\u001b[0m\u001b[0m\n",
            "\u001b[0;32m/usr/local/lib/python3.10/dist-packages/scikeras/wrappers.py\u001b[0m in \u001b[0;36mfit\u001b[0;34m(self, X, y, sample_weight, **kwargs)\u001b[0m\n\u001b[1;32m   1492\u001b[0m             \u001b[0msample_weight\u001b[0m \u001b[0;34m=\u001b[0m \u001b[0;36m1\u001b[0m \u001b[0;32mif\u001b[0m \u001b[0msample_weight\u001b[0m \u001b[0;32mis\u001b[0m \u001b[0;32mNone\u001b[0m \u001b[0;32melse\u001b[0m \u001b[0msample_weight\u001b[0m\u001b[0;34m\u001b[0m\u001b[0;34m\u001b[0m\u001b[0m\n\u001b[1;32m   1493\u001b[0m             \u001b[0msample_weight\u001b[0m \u001b[0;34m*=\u001b[0m \u001b[0mcompute_sample_weight\u001b[0m\u001b[0;34m(\u001b[0m\u001b[0mclass_weight\u001b[0m\u001b[0;34m=\u001b[0m\u001b[0mself\u001b[0m\u001b[0;34m.\u001b[0m\u001b[0mclass_weight\u001b[0m\u001b[0;34m,\u001b[0m \u001b[0my\u001b[0m\u001b[0;34m=\u001b[0m\u001b[0my\u001b[0m\u001b[0;34m)\u001b[0m\u001b[0;34m\u001b[0m\u001b[0;34m\u001b[0m\u001b[0m\n\u001b[0;32m-> 1494\u001b[0;31m         \u001b[0msuper\u001b[0m\u001b[0;34m(\u001b[0m\u001b[0;34m)\u001b[0m\u001b[0;34m.\u001b[0m\u001b[0mfit\u001b[0m\u001b[0;34m(\u001b[0m\u001b[0mX\u001b[0m\u001b[0;34m=\u001b[0m\u001b[0mX\u001b[0m\u001b[0;34m,\u001b[0m \u001b[0my\u001b[0m\u001b[0;34m=\u001b[0m\u001b[0my\u001b[0m\u001b[0;34m,\u001b[0m \u001b[0msample_weight\u001b[0m\u001b[0;34m=\u001b[0m\u001b[0msample_weight\u001b[0m\u001b[0;34m,\u001b[0m \u001b[0;34m**\u001b[0m\u001b[0mkwargs\u001b[0m\u001b[0;34m)\u001b[0m\u001b[0;34m\u001b[0m\u001b[0;34m\u001b[0m\u001b[0m\n\u001b[0m\u001b[1;32m   1495\u001b[0m         \u001b[0;32mreturn\u001b[0m \u001b[0mself\u001b[0m\u001b[0;34m\u001b[0m\u001b[0;34m\u001b[0m\u001b[0m\n\u001b[1;32m   1496\u001b[0m \u001b[0;34m\u001b[0m\u001b[0m\n",
            "\u001b[0;32m/usr/local/lib/python3.10/dist-packages/scikeras/wrappers.py\u001b[0m in \u001b[0;36mfit\u001b[0;34m(self, X, y, sample_weight, **kwargs)\u001b[0m\n\u001b[1;32m    760\u001b[0m         \u001b[0mkwargs\u001b[0m\u001b[0;34m[\u001b[0m\u001b[0;34m\"initial_epoch\"\u001b[0m\u001b[0;34m]\u001b[0m \u001b[0;34m=\u001b[0m \u001b[0mkwargs\u001b[0m\u001b[0;34m.\u001b[0m\u001b[0mget\u001b[0m\u001b[0;34m(\u001b[0m\u001b[0;34m\"initial_epoch\"\u001b[0m\u001b[0;34m,\u001b[0m \u001b[0;36m0\u001b[0m\u001b[0;34m)\u001b[0m\u001b[0;34m\u001b[0m\u001b[0;34m\u001b[0m\u001b[0m\n\u001b[1;32m    761\u001b[0m \u001b[0;34m\u001b[0m\u001b[0m\n\u001b[0;32m--> 762\u001b[0;31m         self._fit(\n\u001b[0m\u001b[1;32m    763\u001b[0m             \u001b[0mX\u001b[0m\u001b[0;34m=\u001b[0m\u001b[0mX\u001b[0m\u001b[0;34m,\u001b[0m\u001b[0;34m\u001b[0m\u001b[0;34m\u001b[0m\u001b[0m\n\u001b[1;32m    764\u001b[0m             \u001b[0my\u001b[0m\u001b[0;34m=\u001b[0m\u001b[0my\u001b[0m\u001b[0;34m,\u001b[0m\u001b[0;34m\u001b[0m\u001b[0;34m\u001b[0m\u001b[0m\n",
            "\u001b[0;32m/usr/local/lib/python3.10/dist-packages/scikeras/wrappers.py\u001b[0m in \u001b[0;36m_fit\u001b[0;34m(self, X, y, sample_weight, warm_start, epochs, initial_epoch, **kwargs)\u001b[0m\n\u001b[1;32m    929\u001b[0m         \u001b[0mself\u001b[0m\u001b[0;34m.\u001b[0m\u001b[0m_check_model_compatibility\u001b[0m\u001b[0;34m(\u001b[0m\u001b[0my\u001b[0m\u001b[0;34m)\u001b[0m\u001b[0;34m\u001b[0m\u001b[0;34m\u001b[0m\u001b[0m\n\u001b[1;32m    930\u001b[0m \u001b[0;34m\u001b[0m\u001b[0m\n\u001b[0;32m--> 931\u001b[0;31m         self._fit_keras_model(\n\u001b[0m\u001b[1;32m    932\u001b[0m             \u001b[0mX\u001b[0m\u001b[0;34m,\u001b[0m\u001b[0;34m\u001b[0m\u001b[0;34m\u001b[0m\u001b[0m\n\u001b[1;32m    933\u001b[0m             \u001b[0my\u001b[0m\u001b[0;34m,\u001b[0m\u001b[0;34m\u001b[0m\u001b[0;34m\u001b[0m\u001b[0m\n",
            "\u001b[0;32m/usr/local/lib/python3.10/dist-packages/scikeras/wrappers.py\u001b[0m in \u001b[0;36m_fit_keras_model\u001b[0;34m(self, X, y, sample_weight, warm_start, epochs, initial_epoch, **kwargs)\u001b[0m\n\u001b[1;32m    524\u001b[0m                 \u001b[0mhist\u001b[0m \u001b[0;34m=\u001b[0m \u001b[0mself\u001b[0m\u001b[0;34m.\u001b[0m\u001b[0mmodel_\u001b[0m\u001b[0;34m.\u001b[0m\u001b[0mfit\u001b[0m\u001b[0;34m(\u001b[0m\u001b[0mx\u001b[0m\u001b[0;34m=\u001b[0m\u001b[0mX\u001b[0m\u001b[0;34m,\u001b[0m \u001b[0my\u001b[0m\u001b[0;34m=\u001b[0m\u001b[0my\u001b[0m\u001b[0;34m,\u001b[0m \u001b[0;34m**\u001b[0m\u001b[0mfit_args\u001b[0m\u001b[0;34m)\u001b[0m\u001b[0;34m\u001b[0m\u001b[0;34m\u001b[0m\u001b[0m\n\u001b[1;32m    525\u001b[0m         \u001b[0;32melse\u001b[0m\u001b[0;34m:\u001b[0m\u001b[0;34m\u001b[0m\u001b[0;34m\u001b[0m\u001b[0m\n\u001b[0;32m--> 526\u001b[0;31m             \u001b[0mhist\u001b[0m \u001b[0;34m=\u001b[0m \u001b[0mself\u001b[0m\u001b[0;34m.\u001b[0m\u001b[0mmodel_\u001b[0m\u001b[0;34m.\u001b[0m\u001b[0mfit\u001b[0m\u001b[0;34m(\u001b[0m\u001b[0mx\u001b[0m\u001b[0;34m=\u001b[0m\u001b[0mX\u001b[0m\u001b[0;34m,\u001b[0m \u001b[0my\u001b[0m\u001b[0;34m=\u001b[0m\u001b[0my\u001b[0m\u001b[0;34m,\u001b[0m \u001b[0;34m**\u001b[0m\u001b[0mfit_args\u001b[0m\u001b[0;34m)\u001b[0m\u001b[0;34m\u001b[0m\u001b[0;34m\u001b[0m\u001b[0m\n\u001b[0m\u001b[1;32m    527\u001b[0m \u001b[0;34m\u001b[0m\u001b[0m\n\u001b[1;32m    528\u001b[0m         \u001b[0;32mif\u001b[0m \u001b[0;32mnot\u001b[0m \u001b[0mwarm_start\u001b[0m \u001b[0;32mor\u001b[0m \u001b[0;32mnot\u001b[0m \u001b[0mhasattr\u001b[0m\u001b[0;34m(\u001b[0m\u001b[0mself\u001b[0m\u001b[0;34m,\u001b[0m \u001b[0;34m\"history_\"\u001b[0m\u001b[0;34m)\u001b[0m \u001b[0;32mor\u001b[0m \u001b[0minitial_epoch\u001b[0m \u001b[0;34m==\u001b[0m \u001b[0;36m0\u001b[0m\u001b[0;34m:\u001b[0m\u001b[0;34m\u001b[0m\u001b[0;34m\u001b[0m\u001b[0m\n",
            "\u001b[0;32m/usr/local/lib/python3.10/dist-packages/keras/utils/traceback_utils.py\u001b[0m in \u001b[0;36merror_handler\u001b[0;34m(*args, **kwargs)\u001b[0m\n\u001b[1;32m     63\u001b[0m         \u001b[0mfiltered_tb\u001b[0m \u001b[0;34m=\u001b[0m \u001b[0;32mNone\u001b[0m\u001b[0;34m\u001b[0m\u001b[0;34m\u001b[0m\u001b[0m\n\u001b[1;32m     64\u001b[0m         \u001b[0;32mtry\u001b[0m\u001b[0;34m:\u001b[0m\u001b[0;34m\u001b[0m\u001b[0;34m\u001b[0m\u001b[0m\n\u001b[0;32m---> 65\u001b[0;31m             \u001b[0;32mreturn\u001b[0m \u001b[0mfn\u001b[0m\u001b[0;34m(\u001b[0m\u001b[0;34m*\u001b[0m\u001b[0margs\u001b[0m\u001b[0;34m,\u001b[0m \u001b[0;34m**\u001b[0m\u001b[0mkwargs\u001b[0m\u001b[0;34m)\u001b[0m\u001b[0;34m\u001b[0m\u001b[0;34m\u001b[0m\u001b[0m\n\u001b[0m\u001b[1;32m     66\u001b[0m         \u001b[0;32mexcept\u001b[0m \u001b[0mException\u001b[0m \u001b[0;32mas\u001b[0m \u001b[0me\u001b[0m\u001b[0;34m:\u001b[0m\u001b[0;34m\u001b[0m\u001b[0;34m\u001b[0m\u001b[0m\n\u001b[1;32m     67\u001b[0m             \u001b[0mfiltered_tb\u001b[0m \u001b[0;34m=\u001b[0m \u001b[0m_process_traceback_frames\u001b[0m\u001b[0;34m(\u001b[0m\u001b[0me\u001b[0m\u001b[0;34m.\u001b[0m\u001b[0m__traceback__\u001b[0m\u001b[0;34m)\u001b[0m\u001b[0;34m\u001b[0m\u001b[0;34m\u001b[0m\u001b[0m\n",
            "\u001b[0;32m/usr/local/lib/python3.10/dist-packages/keras/engine/training.py\u001b[0m in \u001b[0;36mfit\u001b[0;34m(self, x, y, batch_size, epochs, verbose, callbacks, validation_split, validation_data, shuffle, class_weight, sample_weight, initial_epoch, steps_per_epoch, validation_steps, validation_batch_size, validation_freq, max_queue_size, workers, use_multiprocessing)\u001b[0m\n\u001b[1;32m   1683\u001b[0m                         ):\n\u001b[1;32m   1684\u001b[0m                             \u001b[0mcallbacks\u001b[0m\u001b[0;34m.\u001b[0m\u001b[0mon_train_batch_begin\u001b[0m\u001b[0;34m(\u001b[0m\u001b[0mstep\u001b[0m\u001b[0;34m)\u001b[0m\u001b[0;34m\u001b[0m\u001b[0;34m\u001b[0m\u001b[0m\n\u001b[0;32m-> 1685\u001b[0;31m                             \u001b[0mtmp_logs\u001b[0m \u001b[0;34m=\u001b[0m \u001b[0mself\u001b[0m\u001b[0;34m.\u001b[0m\u001b[0mtrain_function\u001b[0m\u001b[0;34m(\u001b[0m\u001b[0miterator\u001b[0m\u001b[0;34m)\u001b[0m\u001b[0;34m\u001b[0m\u001b[0;34m\u001b[0m\u001b[0m\n\u001b[0m\u001b[1;32m   1686\u001b[0m                             \u001b[0;32mif\u001b[0m \u001b[0mdata_handler\u001b[0m\u001b[0;34m.\u001b[0m\u001b[0mshould_sync\u001b[0m\u001b[0;34m:\u001b[0m\u001b[0;34m\u001b[0m\u001b[0;34m\u001b[0m\u001b[0m\n\u001b[1;32m   1687\u001b[0m                                 \u001b[0mcontext\u001b[0m\u001b[0;34m.\u001b[0m\u001b[0masync_wait\u001b[0m\u001b[0;34m(\u001b[0m\u001b[0;34m)\u001b[0m\u001b[0;34m\u001b[0m\u001b[0;34m\u001b[0m\u001b[0m\n",
            "\u001b[0;32m/usr/local/lib/python3.10/dist-packages/tensorflow/python/util/traceback_utils.py\u001b[0m in \u001b[0;36merror_handler\u001b[0;34m(*args, **kwargs)\u001b[0m\n\u001b[1;32m    148\u001b[0m     \u001b[0mfiltered_tb\u001b[0m \u001b[0;34m=\u001b[0m \u001b[0;32mNone\u001b[0m\u001b[0;34m\u001b[0m\u001b[0;34m\u001b[0m\u001b[0m\n\u001b[1;32m    149\u001b[0m     \u001b[0;32mtry\u001b[0m\u001b[0;34m:\u001b[0m\u001b[0;34m\u001b[0m\u001b[0;34m\u001b[0m\u001b[0m\n\u001b[0;32m--> 150\u001b[0;31m       \u001b[0;32mreturn\u001b[0m \u001b[0mfn\u001b[0m\u001b[0;34m(\u001b[0m\u001b[0;34m*\u001b[0m\u001b[0margs\u001b[0m\u001b[0;34m,\u001b[0m \u001b[0;34m**\u001b[0m\u001b[0mkwargs\u001b[0m\u001b[0;34m)\u001b[0m\u001b[0;34m\u001b[0m\u001b[0;34m\u001b[0m\u001b[0m\n\u001b[0m\u001b[1;32m    151\u001b[0m     \u001b[0;32mexcept\u001b[0m \u001b[0mException\u001b[0m \u001b[0;32mas\u001b[0m \u001b[0me\u001b[0m\u001b[0;34m:\u001b[0m\u001b[0;34m\u001b[0m\u001b[0;34m\u001b[0m\u001b[0m\n\u001b[1;32m    152\u001b[0m       \u001b[0mfiltered_tb\u001b[0m \u001b[0;34m=\u001b[0m \u001b[0m_process_traceback_frames\u001b[0m\u001b[0;34m(\u001b[0m\u001b[0me\u001b[0m\u001b[0;34m.\u001b[0m\u001b[0m__traceback__\u001b[0m\u001b[0;34m)\u001b[0m\u001b[0;34m\u001b[0m\u001b[0;34m\u001b[0m\u001b[0m\n",
            "\u001b[0;32m/usr/local/lib/python3.10/dist-packages/tensorflow/python/eager/polymorphic_function/polymorphic_function.py\u001b[0m in \u001b[0;36m__call__\u001b[0;34m(self, *args, **kwds)\u001b[0m\n\u001b[1;32m    892\u001b[0m \u001b[0;34m\u001b[0m\u001b[0m\n\u001b[1;32m    893\u001b[0m       \u001b[0;32mwith\u001b[0m \u001b[0mOptionalXlaContext\u001b[0m\u001b[0;34m(\u001b[0m\u001b[0mself\u001b[0m\u001b[0;34m.\u001b[0m\u001b[0m_jit_compile\u001b[0m\u001b[0;34m)\u001b[0m\u001b[0;34m:\u001b[0m\u001b[0;34m\u001b[0m\u001b[0;34m\u001b[0m\u001b[0m\n\u001b[0;32m--> 894\u001b[0;31m         \u001b[0mresult\u001b[0m \u001b[0;34m=\u001b[0m \u001b[0mself\u001b[0m\u001b[0;34m.\u001b[0m\u001b[0m_call\u001b[0m\u001b[0;34m(\u001b[0m\u001b[0;34m*\u001b[0m\u001b[0margs\u001b[0m\u001b[0;34m,\u001b[0m \u001b[0;34m**\u001b[0m\u001b[0mkwds\u001b[0m\u001b[0;34m)\u001b[0m\u001b[0;34m\u001b[0m\u001b[0;34m\u001b[0m\u001b[0m\n\u001b[0m\u001b[1;32m    895\u001b[0m \u001b[0;34m\u001b[0m\u001b[0m\n\u001b[1;32m    896\u001b[0m       \u001b[0mnew_tracing_count\u001b[0m \u001b[0;34m=\u001b[0m \u001b[0mself\u001b[0m\u001b[0;34m.\u001b[0m\u001b[0mexperimental_get_tracing_count\u001b[0m\u001b[0;34m(\u001b[0m\u001b[0;34m)\u001b[0m\u001b[0;34m\u001b[0m\u001b[0;34m\u001b[0m\u001b[0m\n",
            "\u001b[0;32m/usr/local/lib/python3.10/dist-packages/tensorflow/python/eager/polymorphic_function/polymorphic_function.py\u001b[0m in \u001b[0;36m_call\u001b[0;34m(self, *args, **kwds)\u001b[0m\n\u001b[1;32m    924\u001b[0m       \u001b[0;31m# In this case we have created variables on the first call, so we run the\u001b[0m\u001b[0;34m\u001b[0m\u001b[0;34m\u001b[0m\u001b[0m\n\u001b[1;32m    925\u001b[0m       \u001b[0;31m# defunned version which is guaranteed to never create variables.\u001b[0m\u001b[0;34m\u001b[0m\u001b[0;34m\u001b[0m\u001b[0m\n\u001b[0;32m--> 926\u001b[0;31m       \u001b[0;32mreturn\u001b[0m \u001b[0mself\u001b[0m\u001b[0;34m.\u001b[0m\u001b[0m_no_variable_creation_fn\u001b[0m\u001b[0;34m(\u001b[0m\u001b[0;34m*\u001b[0m\u001b[0margs\u001b[0m\u001b[0;34m,\u001b[0m \u001b[0;34m**\u001b[0m\u001b[0mkwds\u001b[0m\u001b[0;34m)\u001b[0m  \u001b[0;31m# pylint: disable=not-callable\u001b[0m\u001b[0;34m\u001b[0m\u001b[0;34m\u001b[0m\u001b[0m\n\u001b[0m\u001b[1;32m    927\u001b[0m     \u001b[0;32melif\u001b[0m \u001b[0mself\u001b[0m\u001b[0;34m.\u001b[0m\u001b[0m_variable_creation_fn\u001b[0m \u001b[0;32mis\u001b[0m \u001b[0;32mnot\u001b[0m \u001b[0;32mNone\u001b[0m\u001b[0;34m:\u001b[0m\u001b[0;34m\u001b[0m\u001b[0;34m\u001b[0m\u001b[0m\n\u001b[1;32m    928\u001b[0m       \u001b[0;31m# Release the lock early so that multiple threads can perform the call\u001b[0m\u001b[0;34m\u001b[0m\u001b[0;34m\u001b[0m\u001b[0m\n",
            "\u001b[0;32m/usr/local/lib/python3.10/dist-packages/tensorflow/python/eager/polymorphic_function/tracing_compiler.py\u001b[0m in \u001b[0;36m__call__\u001b[0;34m(self, *args, **kwargs)\u001b[0m\n\u001b[1;32m    141\u001b[0m       (concrete_function,\n\u001b[1;32m    142\u001b[0m        filtered_flat_args) = self._maybe_define_function(args, kwargs)\n\u001b[0;32m--> 143\u001b[0;31m     return concrete_function._call_flat(\n\u001b[0m\u001b[1;32m    144\u001b[0m         filtered_flat_args, captured_inputs=concrete_function.captured_inputs)  # pylint: disable=protected-access\n\u001b[1;32m    145\u001b[0m \u001b[0;34m\u001b[0m\u001b[0m\n",
            "\u001b[0;32m/usr/local/lib/python3.10/dist-packages/tensorflow/python/eager/polymorphic_function/monomorphic_function.py\u001b[0m in \u001b[0;36m_call_flat\u001b[0;34m(self, args, captured_inputs, cancellation_manager)\u001b[0m\n\u001b[1;32m   1755\u001b[0m         and executing_eagerly):\n\u001b[1;32m   1756\u001b[0m       \u001b[0;31m# No tape is watching; skip to running the function.\u001b[0m\u001b[0;34m\u001b[0m\u001b[0;34m\u001b[0m\u001b[0m\n\u001b[0;32m-> 1757\u001b[0;31m       return self._build_call_outputs(self._inference_function.call(\n\u001b[0m\u001b[1;32m   1758\u001b[0m           ctx, args, cancellation_manager=cancellation_manager))\n\u001b[1;32m   1759\u001b[0m     forward_backward = self._select_forward_and_backward_functions(\n",
            "\u001b[0;32m/usr/local/lib/python3.10/dist-packages/tensorflow/python/eager/polymorphic_function/monomorphic_function.py\u001b[0m in \u001b[0;36mcall\u001b[0;34m(self, ctx, args, cancellation_manager)\u001b[0m\n\u001b[1;32m    379\u001b[0m       \u001b[0;32mwith\u001b[0m \u001b[0m_InterpolateFunctionError\u001b[0m\u001b[0;34m(\u001b[0m\u001b[0mself\u001b[0m\u001b[0;34m)\u001b[0m\u001b[0;34m:\u001b[0m\u001b[0;34m\u001b[0m\u001b[0;34m\u001b[0m\u001b[0m\n\u001b[1;32m    380\u001b[0m         \u001b[0;32mif\u001b[0m \u001b[0mcancellation_manager\u001b[0m \u001b[0;32mis\u001b[0m \u001b[0;32mNone\u001b[0m\u001b[0;34m:\u001b[0m\u001b[0;34m\u001b[0m\u001b[0;34m\u001b[0m\u001b[0m\n\u001b[0;32m--> 381\u001b[0;31m           outputs = execute.execute(\n\u001b[0m\u001b[1;32m    382\u001b[0m               \u001b[0mstr\u001b[0m\u001b[0;34m(\u001b[0m\u001b[0mself\u001b[0m\u001b[0;34m.\u001b[0m\u001b[0msignature\u001b[0m\u001b[0;34m.\u001b[0m\u001b[0mname\u001b[0m\u001b[0;34m)\u001b[0m\u001b[0;34m,\u001b[0m\u001b[0;34m\u001b[0m\u001b[0;34m\u001b[0m\u001b[0m\n\u001b[1;32m    383\u001b[0m               \u001b[0mnum_outputs\u001b[0m\u001b[0;34m=\u001b[0m\u001b[0mself\u001b[0m\u001b[0;34m.\u001b[0m\u001b[0m_num_outputs\u001b[0m\u001b[0;34m,\u001b[0m\u001b[0;34m\u001b[0m\u001b[0;34m\u001b[0m\u001b[0m\n",
            "\u001b[0;32m/usr/local/lib/python3.10/dist-packages/tensorflow/python/eager/execute.py\u001b[0m in \u001b[0;36mquick_execute\u001b[0;34m(op_name, num_outputs, inputs, attrs, ctx, name)\u001b[0m\n\u001b[1;32m     50\u001b[0m   \u001b[0;32mtry\u001b[0m\u001b[0;34m:\u001b[0m\u001b[0;34m\u001b[0m\u001b[0;34m\u001b[0m\u001b[0m\n\u001b[1;32m     51\u001b[0m     \u001b[0mctx\u001b[0m\u001b[0;34m.\u001b[0m\u001b[0mensure_initialized\u001b[0m\u001b[0;34m(\u001b[0m\u001b[0;34m)\u001b[0m\u001b[0;34m\u001b[0m\u001b[0;34m\u001b[0m\u001b[0m\n\u001b[0;32m---> 52\u001b[0;31m     tensors = pywrap_tfe.TFE_Py_Execute(ctx._handle, device_name, op_name,\n\u001b[0m\u001b[1;32m     53\u001b[0m                                         inputs, attrs, num_outputs)\n\u001b[1;32m     54\u001b[0m   \u001b[0;32mexcept\u001b[0m \u001b[0mcore\u001b[0m\u001b[0;34m.\u001b[0m\u001b[0m_NotOkStatusException\u001b[0m \u001b[0;32mas\u001b[0m \u001b[0me\u001b[0m\u001b[0;34m:\u001b[0m\u001b[0;34m\u001b[0m\u001b[0;34m\u001b[0m\u001b[0m\n",
            "\u001b[0;31mKeyboardInterrupt\u001b[0m: "
          ]
        }
      ]
    }
  ]
}