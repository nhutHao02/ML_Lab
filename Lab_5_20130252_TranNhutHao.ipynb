{
  "nbformat": 4,
  "nbformat_minor": 0,
  "metadata": {
    "colab": {
      "provenance": [],
      "include_colab_link": true
    },
    "kernelspec": {
      "name": "python3",
      "display_name": "Python 3"
    },
    "language_info": {
      "name": "python"
    }
  },
  "cells": [
    {
      "cell_type": "markdown",
      "metadata": {
        "id": "view-in-github",
        "colab_type": "text"
      },
      "source": [
        "<a href=\"https://colab.research.google.com/github/nhutHao02/ML_Lab/blob/main/Lab_5_20130252_TranNhutHao.ipynb\" target=\"_parent\"><img src=\"https://colab.research.google.com/assets/colab-badge.svg\" alt=\"Open In Colab\"/></a>"
      ]
    },
    {
      "cell_type": "markdown",
      "source": [
        "# This lab is to deal with **SVM** to classification tasks and compare its performance with other competitive algorithms. In general, **SVM** is one of the most popular and widely used supervised machine learning algorithms.\n",
        "\n",
        "*   **Deadline: 23:59, 17/03/2023**\n",
        "\n"
      ],
      "metadata": {
        "id": "LMzehe0sy5wr"
      }
    },
    {
      "cell_type": "markdown",
      "source": [
        "# Import libraries"
      ],
      "metadata": {
        "id": "H4nJmxp9zGX4"
      }
    },
    {
      "cell_type": "code",
      "execution_count": 1,
      "metadata": {
        "id": "DoVWQ8AEyc-C"
      },
      "outputs": [],
      "source": [
        "from sklearn import svm\n",
        "import pandas as pd\n",
        "from sklearn.metrics import confusion_matrix\n",
        "from sklearn.metrics import ConfusionMatrixDisplay\n",
        "from sklearn.model_selection import train_test_split\n",
        "from sklearn.linear_model import LogisticRegression \n",
        "from sklearn.metrics import accuracy_score\n",
        "from sklearn.neighbors import KNeighborsClassifier\n",
        "from sklearn import metrics\n",
        "from sklearn import datasets\n",
        "from sklearn import tree\n",
        "\n"
      ]
    },
    {
      "cell_type": "markdown",
      "source": [
        "#Task 1. \n",
        "For breast cancer dataset (https://tinyurl.com/3vme8hr3) which could be loaded from datasets in sklearn as follows:\n",
        "\n",
        "```\n",
        "#Import scikit-learn dataset library\n",
        "from sklearn import datasets\n",
        "\n",
        "#Load dataset\n",
        "cancer = datasets.load_breast_cancer()\n",
        "```\n",
        "\n",
        "*   1.1.\tApply SVM algorithm to above dataset using linear kernel.\n",
        "*   1.2.\tCompare the obtained results with other competitive algorithms (Logistic Regression, Decision Tree, kNN) based on metrics: accuracy, precision, recall, f1 measures.\n",
        "\n"
      ],
      "metadata": {
        "id": "kNv07ARGzOUm"
      }
    },
    {
      "cell_type": "code",
      "source": [
        "# code\n",
        "#Create a svm Classifier\n",
        "cancer = datasets.load_breast_cancer()\n",
        "X = cancer.data\n",
        "y = cancer.target\n",
        "X_train, X_test, y_train, y_test = train_test_split(X, y, test_size=0.3, random_state=0)\n",
        "clf = svm.SVC(kernel='linear') # Linear Kernel\n",
        "#Train the model using the training sets\n",
        "clf.fit(X_train, y_train)\n",
        "#Predict the response for test dataset\n",
        "y_pred = clf.predict(X_test)\n",
        "Accuracy = metrics.accuracy_score(y_test, y_pred)\n",
        "Precision = metrics.precision_score(y_test, y_pred)\n",
        "Recall = metrics.recall_score(y_test, y_pred) \n",
        "F1 = metrics.f1_score(y_test, y_pred)\n",
        "# print(metrics.confusion_matrix(y_test, y_pred))\n",
        "print(metrics.classification_report(y_test, y_pred))\n"
      ],
      "metadata": {
        "id": "sOsg77IBzEyo",
        "colab": {
          "base_uri": "https://localhost:8080/"
        },
        "outputId": "5273d29b-0495-4193-ed73-aaa4a2eafe5b"
      },
      "execution_count": 2,
      "outputs": [
        {
          "output_type": "stream",
          "name": "stdout",
          "text": [
            "              precision    recall  f1-score   support\n",
            "\n",
            "           0       0.92      0.97      0.95        63\n",
            "           1       0.98      0.95      0.97       108\n",
            "\n",
            "    accuracy                           0.96       171\n",
            "   macro avg       0.95      0.96      0.96       171\n",
            "weighted avg       0.96      0.96      0.96       171\n",
            "\n"
          ]
        }
      ]
    },
    {
      "cell_type": "code",
      "source": [
        "decision_tree = tree.DecisionTreeClassifier(random_state=0)\n",
        "decision_tree.fit(X_train, y_train)\n",
        "y_pred = decision_tree.predict(X_test)\n",
        "Accuracy_Tree = metrics.accuracy_score(y_test, y_pred)\n",
        "Precision_Tree = metrics.precision_score(y_test, y_pred, average='macro')\n",
        "Recall_Tree = metrics.recall_score(y_test, y_pred, average='macro') \n",
        "F1_Tree = metrics.f1_score(y_test, y_pred,average='macro')\n",
        "print(metrics.classification_report(y_test, y_pred))"
      ],
      "metadata": {
        "colab": {
          "base_uri": "https://localhost:8080/"
        },
        "id": "DThhA9wkEaUg",
        "outputId": "22c2b4cf-3afd-4fd6-92a0-a886e18d058e"
      },
      "execution_count": 4,
      "outputs": [
        {
          "output_type": "stream",
          "name": "stdout",
          "text": [
            "              precision    recall  f1-score   support\n",
            "\n",
            "           0       0.84      0.94      0.89        63\n",
            "           1       0.96      0.90      0.93       108\n",
            "\n",
            "    accuracy                           0.91       171\n",
            "   macro avg       0.90      0.92      0.91       171\n",
            "weighted avg       0.92      0.91      0.91       171\n",
            "\n"
          ]
        }
      ]
    },
    {
      "cell_type": "code",
      "source": [
        "classifier = LogisticRegression(random_state = 0) \n",
        "classifier.fit(X_train, y_train)\n",
        "\n",
        "y_pred = classifier.predict(X_test)\n",
        "Accuracy_Logistic = metrics.accuracy_score(y_test, y_pred)\n",
        "Precision_Logistic = metrics.precision_score(y_test, y_pred, average='macro')\n",
        "Recall_Logistic = metrics.recall_score(y_test, y_pred, average='macro') \n",
        "F1_Logistic = metrics.f1_score(y_test, y_pred,average='macro')\n",
        "print(metrics.classification_report(y_test, y_pred))"
      ],
      "metadata": {
        "colab": {
          "base_uri": "https://localhost:8080/"
        },
        "id": "E9_RCo8dEPvp",
        "outputId": "a0f81ed0-8842-45dc-c760-eedf3b602ec1"
      },
      "execution_count": 3,
      "outputs": [
        {
          "output_type": "stream",
          "name": "stdout",
          "text": [
            "              precision    recall  f1-score   support\n",
            "\n",
            "           0       0.91      0.97      0.94        63\n",
            "           1       0.98      0.94      0.96       108\n",
            "\n",
            "    accuracy                           0.95       171\n",
            "   macro avg       0.95      0.96      0.95       171\n",
            "weighted avg       0.95      0.95      0.95       171\n",
            "\n"
          ]
        },
        {
          "output_type": "stream",
          "name": "stderr",
          "text": [
            "/usr/local/lib/python3.9/dist-packages/sklearn/linear_model/_logistic.py:458: ConvergenceWarning: lbfgs failed to converge (status=1):\n",
            "STOP: TOTAL NO. of ITERATIONS REACHED LIMIT.\n",
            "\n",
            "Increase the number of iterations (max_iter) or scale the data as shown in:\n",
            "    https://scikit-learn.org/stable/modules/preprocessing.html\n",
            "Please also refer to the documentation for alternative solver options:\n",
            "    https://scikit-learn.org/stable/modules/linear_model.html#logistic-regression\n",
            "  n_iter_i = _check_optimize_result(\n"
          ]
        }
      ]
    },
    {
      "cell_type": "code",
      "source": [
        "k_range = range(1, 30, 2)\n",
        "accs =[ ]\n",
        "precision= [ ]\n",
        "recalls = []\n",
        "f1measure = [ ]\n",
        "for i in k_range:\n",
        "  kNM = KNeighborsClassifier(n_neighbors=i);\n",
        "  kNM.fit(X_train, y_train)\n",
        "  y_pred = kNM.predict(X_test)\n",
        "  accs.append(metrics.accuracy_score(y_test, y_pred))\n",
        "  precision.append(metrics.precision_score(y_test, y_pred, average='macro'))\n",
        "  recalls.append(metrics.recall_score(y_test, y_pred, average='macro'))\n",
        "  f1measure.append(metrics.f1_score(y_test, y_pred, average='macro'))\n",
        "print(metrics.classification_report(y_test, y_pred))"
      ],
      "metadata": {
        "colab": {
          "base_uri": "https://localhost:8080/"
        },
        "id": "DuQO26rwEi-X",
        "outputId": "f3f0bdd9-6fda-4ecc-ffa3-1c760bbd91ce"
      },
      "execution_count": 5,
      "outputs": [
        {
          "output_type": "stream",
          "name": "stdout",
          "text": [
            "              precision    recall  f1-score   support\n",
            "\n",
            "           0       0.97      0.90      0.93        63\n",
            "           1       0.95      0.98      0.96       108\n",
            "\n",
            "    accuracy                           0.95       171\n",
            "   macro avg       0.96      0.94      0.95       171\n",
            "weighted avg       0.95      0.95      0.95       171\n",
            "\n"
          ]
        }
      ]
    },
    {
      "cell_type": "code",
      "source": [
        "d_Logistic = {'Accuracy': Accuracy_Logistic, 'Precision':Precision_Logistic, 'Recall':Recall_Logistic ,'F1':F1_Logistic}\n",
        "d_Tree = {'Accuracy': Accuracy_Tree, 'Precision':Precision_Tree, 'Recall':Recall_Tree ,'F1':F1_Tree}\n",
        "d_kNN = {'Accuracy': max(accs), 'Precision':max(precision), 'Recall':max(recalls) ,'F1':max(f1measure)}\n",
        "d_LinearKernel = {'Accuracy': Accuracy, 'Precision':Precision, 'Recall':Recall ,'F1':F1}\n",
        "pd.DataFrame({'Logistic':pd.Series(d_Logistic), 'Tree':pd.Series(d_Tree), 'kNN':pd.Series(d_kNN), 'LinearKernel': pd.Series(d_LinearKernel)})"
      ],
      "metadata": {
        "colab": {
          "base_uri": "https://localhost:8080/",
          "height": 175
        },
        "id": "UpeLz2jBElo7",
        "outputId": "754607db-e767-48ac-8985-d4a3e83f60c3"
      },
      "execution_count": 6,
      "outputs": [
        {
          "output_type": "execute_result",
          "data": {
            "text/plain": [
              "           Logistic      Tree       kNN  LinearKernel\n",
              "Accuracy   0.953216  0.912281  0.964912      0.959064\n",
              "Precision  0.945608  0.901627  0.965425      0.980952\n",
              "Recall     0.956349  0.917328  0.958995      0.953704\n",
              "F1         0.950363  0.907724  0.962045      0.967136"
            ],
            "text/html": [
              "\n",
              "  <div id=\"df-acc5a908-8aca-44cc-989c-9a20cb0db35e\">\n",
              "    <div class=\"colab-df-container\">\n",
              "      <div>\n",
              "<style scoped>\n",
              "    .dataframe tbody tr th:only-of-type {\n",
              "        vertical-align: middle;\n",
              "    }\n",
              "\n",
              "    .dataframe tbody tr th {\n",
              "        vertical-align: top;\n",
              "    }\n",
              "\n",
              "    .dataframe thead th {\n",
              "        text-align: right;\n",
              "    }\n",
              "</style>\n",
              "<table border=\"1\" class=\"dataframe\">\n",
              "  <thead>\n",
              "    <tr style=\"text-align: right;\">\n",
              "      <th></th>\n",
              "      <th>Logistic</th>\n",
              "      <th>Tree</th>\n",
              "      <th>kNN</th>\n",
              "      <th>LinearKernel</th>\n",
              "    </tr>\n",
              "  </thead>\n",
              "  <tbody>\n",
              "    <tr>\n",
              "      <th>Accuracy</th>\n",
              "      <td>0.953216</td>\n",
              "      <td>0.912281</td>\n",
              "      <td>0.964912</td>\n",
              "      <td>0.959064</td>\n",
              "    </tr>\n",
              "    <tr>\n",
              "      <th>Precision</th>\n",
              "      <td>0.945608</td>\n",
              "      <td>0.901627</td>\n",
              "      <td>0.965425</td>\n",
              "      <td>0.980952</td>\n",
              "    </tr>\n",
              "    <tr>\n",
              "      <th>Recall</th>\n",
              "      <td>0.956349</td>\n",
              "      <td>0.917328</td>\n",
              "      <td>0.958995</td>\n",
              "      <td>0.953704</td>\n",
              "    </tr>\n",
              "    <tr>\n",
              "      <th>F1</th>\n",
              "      <td>0.950363</td>\n",
              "      <td>0.907724</td>\n",
              "      <td>0.962045</td>\n",
              "      <td>0.967136</td>\n",
              "    </tr>\n",
              "  </tbody>\n",
              "</table>\n",
              "</div>\n",
              "      <button class=\"colab-df-convert\" onclick=\"convertToInteractive('df-acc5a908-8aca-44cc-989c-9a20cb0db35e')\"\n",
              "              title=\"Convert this dataframe to an interactive table.\"\n",
              "              style=\"display:none;\">\n",
              "        \n",
              "  <svg xmlns=\"http://www.w3.org/2000/svg\" height=\"24px\"viewBox=\"0 0 24 24\"\n",
              "       width=\"24px\">\n",
              "    <path d=\"M0 0h24v24H0V0z\" fill=\"none\"/>\n",
              "    <path d=\"M18.56 5.44l.94 2.06.94-2.06 2.06-.94-2.06-.94-.94-2.06-.94 2.06-2.06.94zm-11 1L8.5 8.5l.94-2.06 2.06-.94-2.06-.94L8.5 2.5l-.94 2.06-2.06.94zm10 10l.94 2.06.94-2.06 2.06-.94-2.06-.94-.94-2.06-.94 2.06-2.06.94z\"/><path d=\"M17.41 7.96l-1.37-1.37c-.4-.4-.92-.59-1.43-.59-.52 0-1.04.2-1.43.59L10.3 9.45l-7.72 7.72c-.78.78-.78 2.05 0 2.83L4 21.41c.39.39.9.59 1.41.59.51 0 1.02-.2 1.41-.59l7.78-7.78 2.81-2.81c.8-.78.8-2.07 0-2.86zM5.41 20L4 18.59l7.72-7.72 1.47 1.35L5.41 20z\"/>\n",
              "  </svg>\n",
              "      </button>\n",
              "      \n",
              "  <style>\n",
              "    .colab-df-container {\n",
              "      display:flex;\n",
              "      flex-wrap:wrap;\n",
              "      gap: 12px;\n",
              "    }\n",
              "\n",
              "    .colab-df-convert {\n",
              "      background-color: #E8F0FE;\n",
              "      border: none;\n",
              "      border-radius: 50%;\n",
              "      cursor: pointer;\n",
              "      display: none;\n",
              "      fill: #1967D2;\n",
              "      height: 32px;\n",
              "      padding: 0 0 0 0;\n",
              "      width: 32px;\n",
              "    }\n",
              "\n",
              "    .colab-df-convert:hover {\n",
              "      background-color: #E2EBFA;\n",
              "      box-shadow: 0px 1px 2px rgba(60, 64, 67, 0.3), 0px 1px 3px 1px rgba(60, 64, 67, 0.15);\n",
              "      fill: #174EA6;\n",
              "    }\n",
              "\n",
              "    [theme=dark] .colab-df-convert {\n",
              "      background-color: #3B4455;\n",
              "      fill: #D2E3FC;\n",
              "    }\n",
              "\n",
              "    [theme=dark] .colab-df-convert:hover {\n",
              "      background-color: #434B5C;\n",
              "      box-shadow: 0px 1px 3px 1px rgba(0, 0, 0, 0.15);\n",
              "      filter: drop-shadow(0px 1px 2px rgba(0, 0, 0, 0.3));\n",
              "      fill: #FFFFFF;\n",
              "    }\n",
              "  </style>\n",
              "\n",
              "      <script>\n",
              "        const buttonEl =\n",
              "          document.querySelector('#df-acc5a908-8aca-44cc-989c-9a20cb0db35e button.colab-df-convert');\n",
              "        buttonEl.style.display =\n",
              "          google.colab.kernel.accessAllowed ? 'block' : 'none';\n",
              "\n",
              "        async function convertToInteractive(key) {\n",
              "          const element = document.querySelector('#df-acc5a908-8aca-44cc-989c-9a20cb0db35e');\n",
              "          const dataTable =\n",
              "            await google.colab.kernel.invokeFunction('convertToInteractive',\n",
              "                                                     [key], {});\n",
              "          if (!dataTable) return;\n",
              "\n",
              "          const docLinkHtml = 'Like what you see? Visit the ' +\n",
              "            '<a target=\"_blank\" href=https://colab.research.google.com/notebooks/data_table.ipynb>data table notebook</a>'\n",
              "            + ' to learn more about interactive tables.';\n",
              "          element.innerHTML = '';\n",
              "          dataTable['output_type'] = 'display_data';\n",
              "          await google.colab.output.renderOutput(dataTable, element);\n",
              "          const docLink = document.createElement('div');\n",
              "          docLink.innerHTML = docLinkHtml;\n",
              "          element.appendChild(docLink);\n",
              "        }\n",
              "      </script>\n",
              "    </div>\n",
              "  </div>\n",
              "  "
            ]
          },
          "metadata": {},
          "execution_count": 6
        }
      ]
    },
    {
      "cell_type": "markdown",
      "source": [
        "#Task 2. \n",
        "\n",
        "*   1.1.\tPerform SVM algorithm to **Iris dataset** using **linear kernel**.\n",
        "*   1.2.\tCompare the obtained results in 1.1 with SVM using other kernels (**Polynomial Kernel, Gaussian Kernel, Sigmoid Kernel, Radial Basis Function Kernel**). Some metrics could be used: accuracy, precision, recall, f1 measures\n",
        "\n",
        "\n",
        "\n"
      ],
      "metadata": {
        "id": "S43IoUT-0OQq"
      }
    },
    {
      "cell_type": "code",
      "source": [
        "# code\n",
        "# load the MNIST digits dataset\n",
        "iris = datasets.load_iris()\n",
        "X = iris.data\n",
        "y = iris.target\n",
        "X_train, X_test, y_train, y_test = train_test_split(X, y, test_size=0.3, random_state=1)\n",
        "clf = svm.SVC(kernel='linear') # Linear Kernel\n",
        "#Train the model using the training sets\n",
        "clf.fit(X_train, y_train)\n",
        "#Predict the response for test dataset\n",
        "y_pred = clf.predict(X_test)\n",
        "Accuracy = metrics.accuracy_score(y_test, y_pred)\n",
        "Precision = metrics.precision_score(y_test, y_pred, average='macro')\n",
        "Recall = metrics.recall_score(y_test, y_pred, average='macro') \n",
        "F1 = metrics.f1_score(y_test, y_pred, average='macro')\n",
        "print(metrics.classification_report(y_test, y_pred))\n",
        "     "
      ],
      "metadata": {
        "id": "_xhPpF5b033h",
        "colab": {
          "base_uri": "https://localhost:8080/"
        },
        "outputId": "2ac3aace-804e-45b5-f1de-8995129d8a40"
      },
      "execution_count": 7,
      "outputs": [
        {
          "output_type": "stream",
          "name": "stdout",
          "text": [
            "              precision    recall  f1-score   support\n",
            "\n",
            "           0       1.00      1.00      1.00        14\n",
            "           1       1.00      1.00      1.00        18\n",
            "           2       1.00      1.00      1.00        13\n",
            "\n",
            "    accuracy                           1.00        45\n",
            "   macro avg       1.00      1.00      1.00        45\n",
            "weighted avg       1.00      1.00      1.00        45\n",
            "\n"
          ]
        }
      ]
    },
    {
      "cell_type": "code",
      "source": [
        "clf = svm.SVC(kernel='poly') # Linear Kernel\n",
        "#Train the model using the training sets\n",
        "clf.fit(X_train, y_train)\n",
        "#Predict the response for test dataset\n",
        "y_pred = clf.predict(X_test)\n",
        "Accuracy_poly = metrics.accuracy_score(y_test, y_pred)\n",
        "Precision_poly = metrics.precision_score(y_test, y_pred, average='macro')\n",
        "Recall_poly = metrics.recall_score(y_test, y_pred, average='macro') \n",
        "F1_poly = metrics.f1_score(y_test, y_pred, average='macro')\n",
        "print(metrics.classification_report(y_test, y_pred))\n",
        "     "
      ],
      "metadata": {
        "colab": {
          "base_uri": "https://localhost:8080/"
        },
        "id": "dApNpHSvEshb",
        "outputId": "ce1ed38d-e250-4cb3-ff4c-02087f41d6fd"
      },
      "execution_count": 8,
      "outputs": [
        {
          "output_type": "stream",
          "name": "stdout",
          "text": [
            "              precision    recall  f1-score   support\n",
            "\n",
            "           0       1.00      1.00      1.00        14\n",
            "           1       1.00      0.94      0.97        18\n",
            "           2       0.93      1.00      0.96        13\n",
            "\n",
            "    accuracy                           0.98        45\n",
            "   macro avg       0.98      0.98      0.98        45\n",
            "weighted avg       0.98      0.98      0.98        45\n",
            "\n"
          ]
        }
      ]
    },
    {
      "cell_type": "code",
      "source": [
        "\n",
        "clf = svm.SVC(kernel='sigmoid') # Linear Kernel\n",
        "#Train the model using the training sets\n",
        "clf.fit(X_train, y_train)\n",
        "#Predict the response for test dataset\n",
        "y_pred = clf.predict(X_test)\n",
        "Accuracy_sig = metrics.accuracy_score(y_test, y_pred)\n",
        "Precision_sig = metrics.precision_score(y_test, y_pred, average='macro')\n",
        "Recall_sig = metrics.recall_score(y_test, y_pred, average='macro') \n",
        "F1_sig = metrics.f1_score(y_test, y_pred, average='macro')\n",
        "print(metrics.classification_report(y_test, y_pred))"
      ],
      "metadata": {
        "colab": {
          "base_uri": "https://localhost:8080/"
        },
        "id": "jeLgbQe7ExdV",
        "outputId": "a16b9962-e6b3-4785-e42f-7c078e91c34d"
      },
      "execution_count": 9,
      "outputs": [
        {
          "output_type": "stream",
          "name": "stdout",
          "text": [
            "              precision    recall  f1-score   support\n",
            "\n",
            "           0       0.00      0.00      0.00        14\n",
            "           1       0.00      0.00      0.00        18\n",
            "           2       0.29      1.00      0.45        13\n",
            "\n",
            "    accuracy                           0.29        45\n",
            "   macro avg       0.10      0.33      0.15        45\n",
            "weighted avg       0.08      0.29      0.13        45\n",
            "\n"
          ]
        },
        {
          "output_type": "stream",
          "name": "stderr",
          "text": [
            "/usr/local/lib/python3.9/dist-packages/sklearn/metrics/_classification.py:1344: UndefinedMetricWarning: Precision is ill-defined and being set to 0.0 in labels with no predicted samples. Use `zero_division` parameter to control this behavior.\n",
            "  _warn_prf(average, modifier, msg_start, len(result))\n",
            "/usr/local/lib/python3.9/dist-packages/sklearn/metrics/_classification.py:1344: UndefinedMetricWarning: Precision and F-score are ill-defined and being set to 0.0 in labels with no predicted samples. Use `zero_division` parameter to control this behavior.\n",
            "  _warn_prf(average, modifier, msg_start, len(result))\n",
            "/usr/local/lib/python3.9/dist-packages/sklearn/metrics/_classification.py:1344: UndefinedMetricWarning: Precision and F-score are ill-defined and being set to 0.0 in labels with no predicted samples. Use `zero_division` parameter to control this behavior.\n",
            "  _warn_prf(average, modifier, msg_start, len(result))\n",
            "/usr/local/lib/python3.9/dist-packages/sklearn/metrics/_classification.py:1344: UndefinedMetricWarning: Precision and F-score are ill-defined and being set to 0.0 in labels with no predicted samples. Use `zero_division` parameter to control this behavior.\n",
            "  _warn_prf(average, modifier, msg_start, len(result))\n"
          ]
        }
      ]
    },
    {
      "cell_type": "code",
      "source": [
        "clf = svm.SVC(kernel='rbf') # Linear Kernel\n",
        "#Train the model using the training sets\n",
        "clf.fit(X_train, y_train)\n",
        "#Predict the response for test dataset\n",
        "y_pred = clf.predict(X_test)\n",
        "Accuracy_rbf = metrics.accuracy_score(y_test, y_pred)\n",
        "Precision_rbf = metrics.precision_score(y_test, y_pred, average='macro')\n",
        "Recall_rbf = metrics.recall_score(y_test, y_pred, average='macro') \n",
        "F1_rbf = metrics.f1_score(y_test, y_pred, average='macro')\n",
        "print(metrics.classification_report(y_test, y_pred))"
      ],
      "metadata": {
        "colab": {
          "base_uri": "https://localhost:8080/"
        },
        "id": "0RBVXtxKE2Dp",
        "outputId": "0409fd04-4110-4af1-a193-cc50a18ec4d9"
      },
      "execution_count": 10,
      "outputs": [
        {
          "output_type": "stream",
          "name": "stdout",
          "text": [
            "              precision    recall  f1-score   support\n",
            "\n",
            "           0       1.00      1.00      1.00        14\n",
            "           1       1.00      0.94      0.97        18\n",
            "           2       0.93      1.00      0.96        13\n",
            "\n",
            "    accuracy                           0.98        45\n",
            "   macro avg       0.98      0.98      0.98        45\n",
            "weighted avg       0.98      0.98      0.98        45\n",
            "\n"
          ]
        }
      ]
    },
    {
      "cell_type": "code",
      "source": [
        "d_poly= {'Accuracy': Accuracy_poly, 'Precision':Precision_poly, 'Recall':Recall_poly ,'F1':F1_poly}\n",
        "d_sigmoid = {'Accuracy': Accuracy_sig, 'Precision':Precision_sig, 'Recall':Recall_sig ,'F1':F1_sig}\n",
        "d_rbf = {'Accuracy': Accuracy_rbf, 'Precision':Precision_rbf, 'Recall':Recall_rbf ,'F1':F1_rbf}\n",
        "d_LinearKernel = {'Accuracy': Accuracy, 'Precision':Precision, 'Recall':Recall ,'F1':F1}\n",
        "pd.DataFrame({'Polynomial Kernel':pd.Series(d_poly), 'Sigmoid':pd.Series(d_sigmoid), 'Radial':pd.Series(d_rbf), 'LinearKernel': pd.Series(d_LinearKernel)})\n",
        "     "
      ],
      "metadata": {
        "colab": {
          "base_uri": "https://localhost:8080/",
          "height": 175
        },
        "id": "BtWmgldEE5WD",
        "outputId": "96d8be8d-1bca-4b98-98cb-8a38ef84975d"
      },
      "execution_count": 11,
      "outputs": [
        {
          "output_type": "execute_result",
          "data": {
            "text/plain": [
              "           Polynomial Kernel   Sigmoid    Radial  LinearKernel\n",
              "Accuracy            0.977778  0.288889  0.977778           1.0\n",
              "Precision           0.976190  0.096296  0.976190           1.0\n",
              "Recall              0.981481  0.333333  0.981481           1.0\n",
              "F1                  0.978131  0.149425  0.978131           1.0"
            ],
            "text/html": [
              "\n",
              "  <div id=\"df-0d2f6bb7-0b27-4858-883b-c8b55f1df9cc\">\n",
              "    <div class=\"colab-df-container\">\n",
              "      <div>\n",
              "<style scoped>\n",
              "    .dataframe tbody tr th:only-of-type {\n",
              "        vertical-align: middle;\n",
              "    }\n",
              "\n",
              "    .dataframe tbody tr th {\n",
              "        vertical-align: top;\n",
              "    }\n",
              "\n",
              "    .dataframe thead th {\n",
              "        text-align: right;\n",
              "    }\n",
              "</style>\n",
              "<table border=\"1\" class=\"dataframe\">\n",
              "  <thead>\n",
              "    <tr style=\"text-align: right;\">\n",
              "      <th></th>\n",
              "      <th>Polynomial Kernel</th>\n",
              "      <th>Sigmoid</th>\n",
              "      <th>Radial</th>\n",
              "      <th>LinearKernel</th>\n",
              "    </tr>\n",
              "  </thead>\n",
              "  <tbody>\n",
              "    <tr>\n",
              "      <th>Accuracy</th>\n",
              "      <td>0.977778</td>\n",
              "      <td>0.288889</td>\n",
              "      <td>0.977778</td>\n",
              "      <td>1.0</td>\n",
              "    </tr>\n",
              "    <tr>\n",
              "      <th>Precision</th>\n",
              "      <td>0.976190</td>\n",
              "      <td>0.096296</td>\n",
              "      <td>0.976190</td>\n",
              "      <td>1.0</td>\n",
              "    </tr>\n",
              "    <tr>\n",
              "      <th>Recall</th>\n",
              "      <td>0.981481</td>\n",
              "      <td>0.333333</td>\n",
              "      <td>0.981481</td>\n",
              "      <td>1.0</td>\n",
              "    </tr>\n",
              "    <tr>\n",
              "      <th>F1</th>\n",
              "      <td>0.978131</td>\n",
              "      <td>0.149425</td>\n",
              "      <td>0.978131</td>\n",
              "      <td>1.0</td>\n",
              "    </tr>\n",
              "  </tbody>\n",
              "</table>\n",
              "</div>\n",
              "      <button class=\"colab-df-convert\" onclick=\"convertToInteractive('df-0d2f6bb7-0b27-4858-883b-c8b55f1df9cc')\"\n",
              "              title=\"Convert this dataframe to an interactive table.\"\n",
              "              style=\"display:none;\">\n",
              "        \n",
              "  <svg xmlns=\"http://www.w3.org/2000/svg\" height=\"24px\"viewBox=\"0 0 24 24\"\n",
              "       width=\"24px\">\n",
              "    <path d=\"M0 0h24v24H0V0z\" fill=\"none\"/>\n",
              "    <path d=\"M18.56 5.44l.94 2.06.94-2.06 2.06-.94-2.06-.94-.94-2.06-.94 2.06-2.06.94zm-11 1L8.5 8.5l.94-2.06 2.06-.94-2.06-.94L8.5 2.5l-.94 2.06-2.06.94zm10 10l.94 2.06.94-2.06 2.06-.94-2.06-.94-.94-2.06-.94 2.06-2.06.94z\"/><path d=\"M17.41 7.96l-1.37-1.37c-.4-.4-.92-.59-1.43-.59-.52 0-1.04.2-1.43.59L10.3 9.45l-7.72 7.72c-.78.78-.78 2.05 0 2.83L4 21.41c.39.39.9.59 1.41.59.51 0 1.02-.2 1.41-.59l7.78-7.78 2.81-2.81c.8-.78.8-2.07 0-2.86zM5.41 20L4 18.59l7.72-7.72 1.47 1.35L5.41 20z\"/>\n",
              "  </svg>\n",
              "      </button>\n",
              "      \n",
              "  <style>\n",
              "    .colab-df-container {\n",
              "      display:flex;\n",
              "      flex-wrap:wrap;\n",
              "      gap: 12px;\n",
              "    }\n",
              "\n",
              "    .colab-df-convert {\n",
              "      background-color: #E8F0FE;\n",
              "      border: none;\n",
              "      border-radius: 50%;\n",
              "      cursor: pointer;\n",
              "      display: none;\n",
              "      fill: #1967D2;\n",
              "      height: 32px;\n",
              "      padding: 0 0 0 0;\n",
              "      width: 32px;\n",
              "    }\n",
              "\n",
              "    .colab-df-convert:hover {\n",
              "      background-color: #E2EBFA;\n",
              "      box-shadow: 0px 1px 2px rgba(60, 64, 67, 0.3), 0px 1px 3px 1px rgba(60, 64, 67, 0.15);\n",
              "      fill: #174EA6;\n",
              "    }\n",
              "\n",
              "    [theme=dark] .colab-df-convert {\n",
              "      background-color: #3B4455;\n",
              "      fill: #D2E3FC;\n",
              "    }\n",
              "\n",
              "    [theme=dark] .colab-df-convert:hover {\n",
              "      background-color: #434B5C;\n",
              "      box-shadow: 0px 1px 3px 1px rgba(0, 0, 0, 0.15);\n",
              "      filter: drop-shadow(0px 1px 2px rgba(0, 0, 0, 0.3));\n",
              "      fill: #FFFFFF;\n",
              "    }\n",
              "  </style>\n",
              "\n",
              "      <script>\n",
              "        const buttonEl =\n",
              "          document.querySelector('#df-0d2f6bb7-0b27-4858-883b-c8b55f1df9cc button.colab-df-convert');\n",
              "        buttonEl.style.display =\n",
              "          google.colab.kernel.accessAllowed ? 'block' : 'none';\n",
              "\n",
              "        async function convertToInteractive(key) {\n",
              "          const element = document.querySelector('#df-0d2f6bb7-0b27-4858-883b-c8b55f1df9cc');\n",
              "          const dataTable =\n",
              "            await google.colab.kernel.invokeFunction('convertToInteractive',\n",
              "                                                     [key], {});\n",
              "          if (!dataTable) return;\n",
              "\n",
              "          const docLinkHtml = 'Like what you see? Visit the ' +\n",
              "            '<a target=\"_blank\" href=https://colab.research.google.com/notebooks/data_table.ipynb>data table notebook</a>'\n",
              "            + ' to learn more about interactive tables.';\n",
              "          element.innerHTML = '';\n",
              "          dataTable['output_type'] = 'display_data';\n",
              "          await google.colab.output.renderOutput(dataTable, element);\n",
              "          const docLink = document.createElement('div');\n",
              "          docLink.innerHTML = docLinkHtml;\n",
              "          element.appendChild(docLink);\n",
              "        }\n",
              "      </script>\n",
              "    </div>\n",
              "  </div>\n",
              "  "
            ]
          },
          "metadata": {},
          "execution_count": 11
        }
      ]
    },
    {
      "cell_type": "markdown",
      "source": [
        "#Task 3. \n",
        "Compare the performance of selected classification algorithms (Decision Tree, kNN, Logistic Regression) and SVM (using different kernels) with mnist dataset based on accuracy, precision, recall, f1 measures.\n"
      ],
      "metadata": {
        "id": "b52OPWPD2afi"
      }
    },
    {
      "cell_type": "code",
      "source": [
        "mnist = datasets.load_digits()\n",
        "X = mnist.data\n",
        "y = mnist.target\n",
        "X_train, X_test, y_train, y_test = train_test_split(X, y, test_size=0.3, random_state=1)\n",
        "     \n",
        "\n",
        "classifier = LogisticRegression(random_state = 0) \n",
        "classifier.fit(X_train, y_train)\n",
        "\n",
        "y_pred = classifier.predict(X_test)\n",
        "Accuracy_Logistic = metrics.accuracy_score(y_test, y_pred)\n",
        "Precision_Logistic = metrics.precision_score(y_test, y_pred, average='macro')\n",
        "Recall_Logistic = metrics.recall_score(y_test, y_pred, average='macro') \n",
        "F1_Logistic = metrics.f1_score(y_test, y_pred,average='macro')\n",
        "print(metrics.classification_report(y_test, y_pred))"
      ],
      "metadata": {
        "colab": {
          "base_uri": "https://localhost:8080/"
        },
        "id": "Sn2YK8WME9ah",
        "outputId": "36564cc8-5614-4c5e-f56a-48c8cfd87d33"
      },
      "execution_count": 12,
      "outputs": [
        {
          "output_type": "stream",
          "name": "stdout",
          "text": [
            "              precision    recall  f1-score   support\n",
            "\n",
            "           0       1.00      1.00      1.00        59\n",
            "           1       0.94      0.98      0.96        49\n",
            "           2       0.94      1.00      0.97        49\n",
            "           3       0.97      0.95      0.96        64\n",
            "           4       0.97      0.98      0.98        61\n",
            "           5       0.96      0.91      0.93        47\n",
            "           6       1.00      1.00      1.00        51\n",
            "           7       0.98      0.95      0.96        57\n",
            "           8       0.96      0.96      0.96        46\n",
            "           9       0.96      0.95      0.96        57\n",
            "\n",
            "    accuracy                           0.97       540\n",
            "   macro avg       0.97      0.97      0.97       540\n",
            "weighted avg       0.97      0.97      0.97       540\n",
            "\n"
          ]
        },
        {
          "output_type": "stream",
          "name": "stderr",
          "text": [
            "/usr/local/lib/python3.9/dist-packages/sklearn/linear_model/_logistic.py:458: ConvergenceWarning: lbfgs failed to converge (status=1):\n",
            "STOP: TOTAL NO. of ITERATIONS REACHED LIMIT.\n",
            "\n",
            "Increase the number of iterations (max_iter) or scale the data as shown in:\n",
            "    https://scikit-learn.org/stable/modules/preprocessing.html\n",
            "Please also refer to the documentation for alternative solver options:\n",
            "    https://scikit-learn.org/stable/modules/linear_model.html#logistic-regression\n",
            "  n_iter_i = _check_optimize_result(\n"
          ]
        }
      ]
    },
    {
      "cell_type": "code",
      "source": [
        "decision_tree = tree.DecisionTreeClassifier(random_state=0)\n",
        "decision_tree.fit(X_train, y_train)\n",
        "y_pred = decision_tree.predict(X_test)\n",
        "Accuracy_Tree = metrics.accuracy_score(y_test, y_pred)\n",
        "Precision_Tree = metrics.precision_score(y_test, y_pred, average='macro')\n",
        "Recall_Tree = metrics.recall_score(y_test, y_pred, average='macro') \n",
        "F1_Tree = metrics.f1_score(y_test, y_pred,average='macro')\n",
        "print(metrics.classification_report(y_test, y_pred))"
      ],
      "metadata": {
        "colab": {
          "base_uri": "https://localhost:8080/"
        },
        "id": "IizT0txbFBO7",
        "outputId": "211f059b-da34-4a60-a0da-ca7ecf4a9600"
      },
      "execution_count": 13,
      "outputs": [
        {
          "output_type": "stream",
          "name": "stdout",
          "text": [
            "              precision    recall  f1-score   support\n",
            "\n",
            "           0       1.00      0.92      0.96        59\n",
            "           1       0.85      0.92      0.88        49\n",
            "           2       0.85      0.90      0.87        49\n",
            "           3       0.92      0.77      0.84        64\n",
            "           4       0.93      0.82      0.87        61\n",
            "           5       0.86      0.94      0.90        47\n",
            "           6       0.98      0.92      0.95        51\n",
            "           7       0.84      0.89      0.86        57\n",
            "           8       0.71      0.80      0.76        46\n",
            "           9       0.69      0.75      0.72        57\n",
            "\n",
            "    accuracy                           0.86       540\n",
            "   macro avg       0.86      0.86      0.86       540\n",
            "weighted avg       0.87      0.86      0.86       540\n",
            "\n"
          ]
        }
      ]
    },
    {
      "cell_type": "code",
      "source": [
        "k_range = range(1, 30, 2)\n",
        "accs =[ ]\n",
        "precision= [ ]\n",
        "recalls = []\n",
        "f1measure = [ ]\n",
        "for i in k_range:\n",
        "  kNM = KNeighborsClassifier(n_neighbors=i);\n",
        "  kNM.fit(X_train, y_train)\n",
        "  y_pred = kNM.predict(X_test)\n",
        "  accs.append(metrics.accuracy_score(y_test, y_pred))\n",
        "  precision.append(metrics.precision_score(y_test, y_pred, average='macro'))\n",
        "  recalls.append(metrics.recall_score(y_test, y_pred, average='macro'))\n",
        "  f1measure.append(metrics.f1_score(y_test, y_pred, average='macro'))\n",
        "print(metrics.classification_report(y_test, y_pred))\n",
        "     "
      ],
      "metadata": {
        "colab": {
          "base_uri": "https://localhost:8080/"
        },
        "id": "pzafdZhJFD3J",
        "outputId": "731c3752-b209-45a4-af39-00be884d14dc"
      },
      "execution_count": 14,
      "outputs": [
        {
          "output_type": "stream",
          "name": "stdout",
          "text": [
            "              precision    recall  f1-score   support\n",
            "\n",
            "           0       1.00      0.98      0.99        59\n",
            "           1       0.94      0.98      0.96        49\n",
            "           2       0.98      0.98      0.98        49\n",
            "           3       0.98      0.95      0.97        64\n",
            "           4       0.98      1.00      0.99        61\n",
            "           5       0.96      0.98      0.97        47\n",
            "           6       0.98      1.00      0.99        51\n",
            "           7       0.90      1.00      0.95        57\n",
            "           8       0.95      0.91      0.93        46\n",
            "           9       0.98      0.88      0.93        57\n",
            "\n",
            "    accuracy                           0.97       540\n",
            "   macro avg       0.97      0.97      0.97       540\n",
            "weighted avg       0.97      0.97      0.97       540\n",
            "\n"
          ]
        }
      ]
    },
    {
      "cell_type": "code",
      "source": [
        "clf = svm.SVC(kernel='linear') # Linear Kernel\n",
        "#Train the model using the training sets\n",
        "clf.fit(X_train, y_train)\n",
        "#Predict the response for test dataset\n",
        "y_pred = clf.predict(X_test)\n",
        "Accuracy = metrics.accuracy_score(y_test, y_pred)\n",
        "Precision = metrics.precision_score(y_test, y_pred, average='macro')\n",
        "Recall = metrics.recall_score(y_test, y_pred, average='macro') \n",
        "F1 = metrics.f1_score(y_test, y_pred, average='macro')\n",
        "print(metrics.classification_report(y_test, y_pred))"
      ],
      "metadata": {
        "colab": {
          "base_uri": "https://localhost:8080/"
        },
        "id": "UY-B_UbEFGPV",
        "outputId": "b23f6c1f-dc0d-40cc-abad-8ac5a82cc484"
      },
      "execution_count": 15,
      "outputs": [
        {
          "output_type": "stream",
          "name": "stdout",
          "text": [
            "              precision    recall  f1-score   support\n",
            "\n",
            "           0       1.00      1.00      1.00        59\n",
            "           1       0.98      1.00      0.99        49\n",
            "           2       1.00      1.00      1.00        49\n",
            "           3       0.98      0.98      0.98        64\n",
            "           4       1.00      0.98      0.99        61\n",
            "           5       0.96      0.98      0.97        47\n",
            "           6       1.00      1.00      1.00        51\n",
            "           7       1.00      0.98      0.99        57\n",
            "           8       0.96      0.93      0.95        46\n",
            "           9       0.93      0.95      0.94        57\n",
            "\n",
            "    accuracy                           0.98       540\n",
            "   macro avg       0.98      0.98      0.98       540\n",
            "weighted avg       0.98      0.98      0.98       540\n",
            "\n"
          ]
        }
      ]
    },
    {
      "cell_type": "code",
      "source": [
        "clf = svm.SVC(kernel='rbf') # Linear Kernel\n",
        "#Train the model using the training sets\n",
        "clf.fit(X_train, y_train)\n",
        "#Predict the response for test dataset\n",
        "y_pred = clf.predict(X_test)\n",
        "Accuracy_rbf = metrics.accuracy_score(y_test, y_pred)\n",
        "Precision_rbf = metrics.precision_score(y_test, y_pred, average='macro')\n",
        "Recall_rbf = metrics.recall_score(y_test, y_pred, average='macro') \n",
        "F1_rbf = metrics.f1_score(y_test, y_pred, average='macro')\n",
        "print(metrics.classification_report(y_test, y_pred))"
      ],
      "metadata": {
        "colab": {
          "base_uri": "https://localhost:8080/"
        },
        "id": "g4O_wmusFJM2",
        "outputId": "ab25a300-ac39-4117-fe3a-54b865efd4ad"
      },
      "execution_count": 16,
      "outputs": [
        {
          "output_type": "stream",
          "name": "stdout",
          "text": [
            "              precision    recall  f1-score   support\n",
            "\n",
            "           0       1.00      0.98      0.99        59\n",
            "           1       0.98      1.00      0.99        49\n",
            "           2       0.98      1.00      0.99        49\n",
            "           3       1.00      0.98      0.99        64\n",
            "           4       0.98      1.00      0.99        61\n",
            "           5       0.96      0.98      0.97        47\n",
            "           6       1.00      1.00      1.00        51\n",
            "           7       1.00      0.98      0.99        57\n",
            "           8       1.00      0.96      0.98        46\n",
            "           9       0.95      0.96      0.96        57\n",
            "\n",
            "    accuracy                           0.99       540\n",
            "   macro avg       0.99      0.99      0.98       540\n",
            "weighted avg       0.99      0.99      0.99       540\n",
            "\n"
          ]
        }
      ]
    },
    {
      "cell_type": "code",
      "source": [
        "clf = svm.SVC(kernel='sigmoid') # Linear Kernel\n",
        "#Train the model using the training sets\n",
        "clf.fit(X_train, y_train)\n",
        "#Predict the response for test dataset\n",
        "y_pred = clf.predict(X_test)\n",
        "Accuracy_sig = metrics.accuracy_score(y_test, y_pred)\n",
        "Precision_sig = metrics.precision_score(y_test, y_pred, average='macro')\n",
        "Recall_sig = metrics.recall_score(y_test, y_pred, average='macro') \n",
        "F1_sig = metrics.f1_score(y_test, y_pred, average='macro')\n",
        "print(metrics.classification_report(y_test, y_pred))"
      ],
      "metadata": {
        "colab": {
          "base_uri": "https://localhost:8080/"
        },
        "id": "lXoKVyGwFLhC",
        "outputId": "3c669ad5-19c8-400d-cedb-fdda053c24cb"
      },
      "execution_count": 17,
      "outputs": [
        {
          "output_type": "stream",
          "name": "stdout",
          "text": [
            "              precision    recall  f1-score   support\n",
            "\n",
            "           0       0.96      0.93      0.95        59\n",
            "           1       0.78      0.82      0.80        49\n",
            "           2       0.96      0.94      0.95        49\n",
            "           3       0.98      0.89      0.93        64\n",
            "           4       0.90      0.90      0.90        61\n",
            "           5       0.92      0.96      0.94        47\n",
            "           6       0.96      0.98      0.97        51\n",
            "           7       0.87      0.96      0.92        57\n",
            "           8       0.88      0.76      0.81        46\n",
            "           9       0.84      0.89      0.86        57\n",
            "\n",
            "    accuracy                           0.91       540\n",
            "   macro avg       0.91      0.90      0.90       540\n",
            "weighted avg       0.91      0.91      0.91       540\n",
            "\n"
          ]
        }
      ]
    },
    {
      "cell_type": "code",
      "source": [
        "clf = svm.SVC(kernel='poly') # Linear Kernel\n",
        "#Train the model using the training sets\n",
        "clf.fit(X_train, y_train)\n",
        "#Predict the response for test dataset\n",
        "y_pred = clf.predict(X_test)\n",
        "Accuracy_poly = metrics.accuracy_score(y_test, y_pred)\n",
        "Precision_poly = metrics.precision_score(y_test, y_pred, average='macro')\n",
        "Recall_poly = metrics.recall_score(y_test, y_pred, average='macro') \n",
        "F1_poly = metrics.f1_score(y_test, y_pred, average='macro')\n",
        "print(metrics.classification_report(y_test, y_pred))\n",
        "     "
      ],
      "metadata": {
        "colab": {
          "base_uri": "https://localhost:8080/"
        },
        "id": "gMnIMofZFNip",
        "outputId": "b28fc135-48a5-4ad7-9a0a-5b0c2c029494"
      },
      "execution_count": 18,
      "outputs": [
        {
          "output_type": "stream",
          "name": "stdout",
          "text": [
            "              precision    recall  f1-score   support\n",
            "\n",
            "           0       1.00      0.98      0.99        59\n",
            "           1       0.98      1.00      0.99        49\n",
            "           2       0.98      1.00      0.99        49\n",
            "           3       1.00      0.98      0.99        64\n",
            "           4       0.98      1.00      0.99        61\n",
            "           5       0.96      0.98      0.97        47\n",
            "           6       1.00      1.00      1.00        51\n",
            "           7       1.00      0.98      0.99        57\n",
            "           8       1.00      0.96      0.98        46\n",
            "           9       0.95      0.96      0.96        57\n",
            "\n",
            "    accuracy                           0.99       540\n",
            "   macro avg       0.99      0.99      0.98       540\n",
            "weighted avg       0.99      0.99      0.99       540\n",
            "\n"
          ]
        }
      ]
    },
    {
      "cell_type": "code",
      "source": [
        "d_Logistic = {'Accuracy': Accuracy_Logistic, 'Precision':Precision_Logistic, 'Recall':Recall_Logistic ,'F1':F1_Logistic}\n",
        "d_Tree = {'Accuracy': Accuracy_Tree, 'Precision':Precision_Tree, 'Recall':Recall_Tree ,'F1':F1_Tree}\n",
        "d_kNN = {'Accuracy': max(accs), 'Precision':max(precision), 'Recall':max(recalls) ,'F1':max(f1measure)}\n",
        "d_poly= {'Accuracy': Accuracy_poly, 'Precision':Precision_poly, 'Recall':Recall_poly ,'F1':F1_poly}\n",
        "d_sigmoid = {'Accuracy': Accuracy_sig, 'Precision':Precision_sig, 'Recall':Recall_sig ,'F1':F1_sig}\n",
        "d_rbf = {'Accuracy': Accuracy_rbf, 'Precision':Precision_rbf, 'Recall':Recall_rbf ,'F1':F1_rbf}\n",
        "d_LinearKernel = {'Accuracy': Accuracy, 'Precision':Precision, 'Recall':Recall ,'F1':F1}\n",
        "pd.DataFrame({'Logistic':pd.Series(d_Logistic), 'Tree':pd.Series(d_Tree), 'kNN':pd.Series(d_kNN),'Polynomial Kernel':pd.Series(d_poly), 'Sigmoid':pd.Series(d_sigmoid), 'Radial':pd.Series(d_rbf), 'LinearKernel': pd.Series(d_LinearKernel)})\n",
        "     "
      ],
      "metadata": {
        "colab": {
          "base_uri": "https://localhost:8080/",
          "height": 175
        },
        "id": "JQq7HtZUFTcE",
        "outputId": "65020741-5158-4ef3-fb96-d7c9413a4ff9"
      },
      "execution_count": 19,
      "outputs": [
        {
          "output_type": "execute_result",
          "data": {
            "text/plain": [
              "           Logistic      Tree       kNN  Polynomial Kernel   Sigmoid  \\\n",
              "Accuracy   0.968519  0.859259  0.990741           0.985185  0.905556   \n",
              "Precision  0.967766  0.862873  0.991622           0.985048  0.905594   \n",
              "Recall     0.968248  0.862809  0.990208           0.985004  0.903793   \n",
              "F1         0.967788  0.860622  0.990817           0.984912  0.903620   \n",
              "\n",
              "             Radial  LinearKernel  \n",
              "Accuracy   0.985185      0.981481  \n",
              "Precision  0.985048      0.980930  \n",
              "Recall     0.985004      0.981131  \n",
              "F1         0.984912      0.980977  "
            ],
            "text/html": [
              "\n",
              "  <div id=\"df-ce3f3f74-a1fd-46d5-8283-0dbe62d0f1f1\">\n",
              "    <div class=\"colab-df-container\">\n",
              "      <div>\n",
              "<style scoped>\n",
              "    .dataframe tbody tr th:only-of-type {\n",
              "        vertical-align: middle;\n",
              "    }\n",
              "\n",
              "    .dataframe tbody tr th {\n",
              "        vertical-align: top;\n",
              "    }\n",
              "\n",
              "    .dataframe thead th {\n",
              "        text-align: right;\n",
              "    }\n",
              "</style>\n",
              "<table border=\"1\" class=\"dataframe\">\n",
              "  <thead>\n",
              "    <tr style=\"text-align: right;\">\n",
              "      <th></th>\n",
              "      <th>Logistic</th>\n",
              "      <th>Tree</th>\n",
              "      <th>kNN</th>\n",
              "      <th>Polynomial Kernel</th>\n",
              "      <th>Sigmoid</th>\n",
              "      <th>Radial</th>\n",
              "      <th>LinearKernel</th>\n",
              "    </tr>\n",
              "  </thead>\n",
              "  <tbody>\n",
              "    <tr>\n",
              "      <th>Accuracy</th>\n",
              "      <td>0.968519</td>\n",
              "      <td>0.859259</td>\n",
              "      <td>0.990741</td>\n",
              "      <td>0.985185</td>\n",
              "      <td>0.905556</td>\n",
              "      <td>0.985185</td>\n",
              "      <td>0.981481</td>\n",
              "    </tr>\n",
              "    <tr>\n",
              "      <th>Precision</th>\n",
              "      <td>0.967766</td>\n",
              "      <td>0.862873</td>\n",
              "      <td>0.991622</td>\n",
              "      <td>0.985048</td>\n",
              "      <td>0.905594</td>\n",
              "      <td>0.985048</td>\n",
              "      <td>0.980930</td>\n",
              "    </tr>\n",
              "    <tr>\n",
              "      <th>Recall</th>\n",
              "      <td>0.968248</td>\n",
              "      <td>0.862809</td>\n",
              "      <td>0.990208</td>\n",
              "      <td>0.985004</td>\n",
              "      <td>0.903793</td>\n",
              "      <td>0.985004</td>\n",
              "      <td>0.981131</td>\n",
              "    </tr>\n",
              "    <tr>\n",
              "      <th>F1</th>\n",
              "      <td>0.967788</td>\n",
              "      <td>0.860622</td>\n",
              "      <td>0.990817</td>\n",
              "      <td>0.984912</td>\n",
              "      <td>0.903620</td>\n",
              "      <td>0.984912</td>\n",
              "      <td>0.980977</td>\n",
              "    </tr>\n",
              "  </tbody>\n",
              "</table>\n",
              "</div>\n",
              "      <button class=\"colab-df-convert\" onclick=\"convertToInteractive('df-ce3f3f74-a1fd-46d5-8283-0dbe62d0f1f1')\"\n",
              "              title=\"Convert this dataframe to an interactive table.\"\n",
              "              style=\"display:none;\">\n",
              "        \n",
              "  <svg xmlns=\"http://www.w3.org/2000/svg\" height=\"24px\"viewBox=\"0 0 24 24\"\n",
              "       width=\"24px\">\n",
              "    <path d=\"M0 0h24v24H0V0z\" fill=\"none\"/>\n",
              "    <path d=\"M18.56 5.44l.94 2.06.94-2.06 2.06-.94-2.06-.94-.94-2.06-.94 2.06-2.06.94zm-11 1L8.5 8.5l.94-2.06 2.06-.94-2.06-.94L8.5 2.5l-.94 2.06-2.06.94zm10 10l.94 2.06.94-2.06 2.06-.94-2.06-.94-.94-2.06-.94 2.06-2.06.94z\"/><path d=\"M17.41 7.96l-1.37-1.37c-.4-.4-.92-.59-1.43-.59-.52 0-1.04.2-1.43.59L10.3 9.45l-7.72 7.72c-.78.78-.78 2.05 0 2.83L4 21.41c.39.39.9.59 1.41.59.51 0 1.02-.2 1.41-.59l7.78-7.78 2.81-2.81c.8-.78.8-2.07 0-2.86zM5.41 20L4 18.59l7.72-7.72 1.47 1.35L5.41 20z\"/>\n",
              "  </svg>\n",
              "      </button>\n",
              "      \n",
              "  <style>\n",
              "    .colab-df-container {\n",
              "      display:flex;\n",
              "      flex-wrap:wrap;\n",
              "      gap: 12px;\n",
              "    }\n",
              "\n",
              "    .colab-df-convert {\n",
              "      background-color: #E8F0FE;\n",
              "      border: none;\n",
              "      border-radius: 50%;\n",
              "      cursor: pointer;\n",
              "      display: none;\n",
              "      fill: #1967D2;\n",
              "      height: 32px;\n",
              "      padding: 0 0 0 0;\n",
              "      width: 32px;\n",
              "    }\n",
              "\n",
              "    .colab-df-convert:hover {\n",
              "      background-color: #E2EBFA;\n",
              "      box-shadow: 0px 1px 2px rgba(60, 64, 67, 0.3), 0px 1px 3px 1px rgba(60, 64, 67, 0.15);\n",
              "      fill: #174EA6;\n",
              "    }\n",
              "\n",
              "    [theme=dark] .colab-df-convert {\n",
              "      background-color: #3B4455;\n",
              "      fill: #D2E3FC;\n",
              "    }\n",
              "\n",
              "    [theme=dark] .colab-df-convert:hover {\n",
              "      background-color: #434B5C;\n",
              "      box-shadow: 0px 1px 3px 1px rgba(0, 0, 0, 0.15);\n",
              "      filter: drop-shadow(0px 1px 2px rgba(0, 0, 0, 0.3));\n",
              "      fill: #FFFFFF;\n",
              "    }\n",
              "  </style>\n",
              "\n",
              "      <script>\n",
              "        const buttonEl =\n",
              "          document.querySelector('#df-ce3f3f74-a1fd-46d5-8283-0dbe62d0f1f1 button.colab-df-convert');\n",
              "        buttonEl.style.display =\n",
              "          google.colab.kernel.accessAllowed ? 'block' : 'none';\n",
              "\n",
              "        async function convertToInteractive(key) {\n",
              "          const element = document.querySelector('#df-ce3f3f74-a1fd-46d5-8283-0dbe62d0f1f1');\n",
              "          const dataTable =\n",
              "            await google.colab.kernel.invokeFunction('convertToInteractive',\n",
              "                                                     [key], {});\n",
              "          if (!dataTable) return;\n",
              "\n",
              "          const docLinkHtml = 'Like what you see? Visit the ' +\n",
              "            '<a target=\"_blank\" href=https://colab.research.google.com/notebooks/data_table.ipynb>data table notebook</a>'\n",
              "            + ' to learn more about interactive tables.';\n",
              "          element.innerHTML = '';\n",
              "          dataTable['output_type'] = 'display_data';\n",
              "          await google.colab.output.renderOutput(dataTable, element);\n",
              "          const docLink = document.createElement('div');\n",
              "          docLink.innerHTML = docLinkHtml;\n",
              "          element.appendChild(docLink);\n",
              "        }\n",
              "      </script>\n",
              "    </div>\n",
              "  </div>\n",
              "  "
            ]
          },
          "metadata": {},
          "execution_count": 19
        }
      ]
    },
    {
      "cell_type": "markdown",
      "source": [
        "#Task 4. \n",
        "Compare the performance of selected classification algorithms (Decision Tree, kNN, Logistic Regression) and SVM (using different kernels) with **credit card dataset** based on accuracy, precision, recall, f1 measures.\n",
        "\n",
        "*   Give some comments on the obtained results\n",
        "*   Identify issues with dataset, and propose the solutions to these issues\n",
        "\n"
      ],
      "metadata": {
        "id": "Z5pp7_h-aP2u"
      }
    },
    {
      "cell_type": "code",
      "source": [
        "# code"
      ],
      "metadata": {
        "id": "Rw_-8FIf2KxW"
      },
      "execution_count": null,
      "outputs": []
    },
    {
      "cell_type": "markdown",
      "source": [
        "#Finally,\n",
        "Save a copy in your Github. Remember renaming the notebook."
      ],
      "metadata": {
        "id": "Ok7RGkea_b7n"
      }
    }
  ]
}